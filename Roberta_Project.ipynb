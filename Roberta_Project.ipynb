{
  "nbformat": 4,
  "nbformat_minor": 0,
  "metadata": {
    "colab": {
      "provenance": [],
      "collapsed_sections": [
        "QIOYZqhjFXfv",
        "WuFeLCMjFaMj",
        "QAIa09hDFjJt"
      ],
      "authorship_tag": "ABX9TyPWZxrxzpJBhW8lk9lsapJJ",
      "include_colab_link": true
    },
    "kernelspec": {
      "name": "python3",
      "display_name": "Python 3"
    },
    "language_info": {
      "name": "python"
    },
    "widgets": {
      "application/vnd.jupyter.widget-state+json": {
        "df82e27a59464d84abebd29ef1dd4f7a": {
          "model_module": "@jupyter-widgets/controls",
          "model_name": "HBoxModel",
          "model_module_version": "1.5.0",
          "state": {
            "_dom_classes": [],
            "_model_module": "@jupyter-widgets/controls",
            "_model_module_version": "1.5.0",
            "_model_name": "HBoxModel",
            "_view_count": null,
            "_view_module": "@jupyter-widgets/controls",
            "_view_module_version": "1.5.0",
            "_view_name": "HBoxView",
            "box_style": "",
            "children": [
              "IPY_MODEL_849c094fe81145cb8de91d00f1ed8924",
              "IPY_MODEL_62ea87e765d74972a9f6c1c4d47d7bdb",
              "IPY_MODEL_8b2473ecf6f64df8b20c89f2c59ab9ba"
            ],
            "layout": "IPY_MODEL_bad7da02904944efa107d2ab556a1a10"
          }
        },
        "849c094fe81145cb8de91d00f1ed8924": {
          "model_module": "@jupyter-widgets/controls",
          "model_name": "HTMLModel",
          "model_module_version": "1.5.0",
          "state": {
            "_dom_classes": [],
            "_model_module": "@jupyter-widgets/controls",
            "_model_module_version": "1.5.0",
            "_model_name": "HTMLModel",
            "_view_count": null,
            "_view_module": "@jupyter-widgets/controls",
            "_view_module_version": "1.5.0",
            "_view_name": "HTMLView",
            "description": "",
            "description_tooltip": null,
            "layout": "IPY_MODEL_c834ddbb20e5417792691553d36f88bc",
            "placeholder": "​",
            "style": "IPY_MODEL_b0ab2feb581f4ec1b9f9865abe59729f",
            "value": "Map: 100%"
          }
        },
        "62ea87e765d74972a9f6c1c4d47d7bdb": {
          "model_module": "@jupyter-widgets/controls",
          "model_name": "FloatProgressModel",
          "model_module_version": "1.5.0",
          "state": {
            "_dom_classes": [],
            "_model_module": "@jupyter-widgets/controls",
            "_model_module_version": "1.5.0",
            "_model_name": "FloatProgressModel",
            "_view_count": null,
            "_view_module": "@jupyter-widgets/controls",
            "_view_module_version": "1.5.0",
            "_view_name": "ProgressView",
            "bar_style": "success",
            "description": "",
            "description_tooltip": null,
            "layout": "IPY_MODEL_550a7c1bcb714d47a4fa10fd5ef83491",
            "max": 25372,
            "min": 0,
            "orientation": "horizontal",
            "style": "IPY_MODEL_e0bb23a65f304ee2897234b2f31d7c0b",
            "value": 25372
          }
        },
        "8b2473ecf6f64df8b20c89f2c59ab9ba": {
          "model_module": "@jupyter-widgets/controls",
          "model_name": "HTMLModel",
          "model_module_version": "1.5.0",
          "state": {
            "_dom_classes": [],
            "_model_module": "@jupyter-widgets/controls",
            "_model_module_version": "1.5.0",
            "_model_name": "HTMLModel",
            "_view_count": null,
            "_view_module": "@jupyter-widgets/controls",
            "_view_module_version": "1.5.0",
            "_view_name": "HTMLView",
            "description": "",
            "description_tooltip": null,
            "layout": "IPY_MODEL_0051681b844849229213dbf65a073905",
            "placeholder": "​",
            "style": "IPY_MODEL_c7ba7e1638db4e7795ca7283d9a510b8",
            "value": " 25372/25372 [00:03&lt;00:00, 8114.28 examples/s]"
          }
        },
        "bad7da02904944efa107d2ab556a1a10": {
          "model_module": "@jupyter-widgets/base",
          "model_name": "LayoutModel",
          "model_module_version": "1.2.0",
          "state": {
            "_model_module": "@jupyter-widgets/base",
            "_model_module_version": "1.2.0",
            "_model_name": "LayoutModel",
            "_view_count": null,
            "_view_module": "@jupyter-widgets/base",
            "_view_module_version": "1.2.0",
            "_view_name": "LayoutView",
            "align_content": null,
            "align_items": null,
            "align_self": null,
            "border": null,
            "bottom": null,
            "display": null,
            "flex": null,
            "flex_flow": null,
            "grid_area": null,
            "grid_auto_columns": null,
            "grid_auto_flow": null,
            "grid_auto_rows": null,
            "grid_column": null,
            "grid_gap": null,
            "grid_row": null,
            "grid_template_areas": null,
            "grid_template_columns": null,
            "grid_template_rows": null,
            "height": null,
            "justify_content": null,
            "justify_items": null,
            "left": null,
            "margin": null,
            "max_height": null,
            "max_width": null,
            "min_height": null,
            "min_width": null,
            "object_fit": null,
            "object_position": null,
            "order": null,
            "overflow": null,
            "overflow_x": null,
            "overflow_y": null,
            "padding": null,
            "right": null,
            "top": null,
            "visibility": null,
            "width": null
          }
        },
        "c834ddbb20e5417792691553d36f88bc": {
          "model_module": "@jupyter-widgets/base",
          "model_name": "LayoutModel",
          "model_module_version": "1.2.0",
          "state": {
            "_model_module": "@jupyter-widgets/base",
            "_model_module_version": "1.2.0",
            "_model_name": "LayoutModel",
            "_view_count": null,
            "_view_module": "@jupyter-widgets/base",
            "_view_module_version": "1.2.0",
            "_view_name": "LayoutView",
            "align_content": null,
            "align_items": null,
            "align_self": null,
            "border": null,
            "bottom": null,
            "display": null,
            "flex": null,
            "flex_flow": null,
            "grid_area": null,
            "grid_auto_columns": null,
            "grid_auto_flow": null,
            "grid_auto_rows": null,
            "grid_column": null,
            "grid_gap": null,
            "grid_row": null,
            "grid_template_areas": null,
            "grid_template_columns": null,
            "grid_template_rows": null,
            "height": null,
            "justify_content": null,
            "justify_items": null,
            "left": null,
            "margin": null,
            "max_height": null,
            "max_width": null,
            "min_height": null,
            "min_width": null,
            "object_fit": null,
            "object_position": null,
            "order": null,
            "overflow": null,
            "overflow_x": null,
            "overflow_y": null,
            "padding": null,
            "right": null,
            "top": null,
            "visibility": null,
            "width": null
          }
        },
        "b0ab2feb581f4ec1b9f9865abe59729f": {
          "model_module": "@jupyter-widgets/controls",
          "model_name": "DescriptionStyleModel",
          "model_module_version": "1.5.0",
          "state": {
            "_model_module": "@jupyter-widgets/controls",
            "_model_module_version": "1.5.0",
            "_model_name": "DescriptionStyleModel",
            "_view_count": null,
            "_view_module": "@jupyter-widgets/base",
            "_view_module_version": "1.2.0",
            "_view_name": "StyleView",
            "description_width": ""
          }
        },
        "550a7c1bcb714d47a4fa10fd5ef83491": {
          "model_module": "@jupyter-widgets/base",
          "model_name": "LayoutModel",
          "model_module_version": "1.2.0",
          "state": {
            "_model_module": "@jupyter-widgets/base",
            "_model_module_version": "1.2.0",
            "_model_name": "LayoutModel",
            "_view_count": null,
            "_view_module": "@jupyter-widgets/base",
            "_view_module_version": "1.2.0",
            "_view_name": "LayoutView",
            "align_content": null,
            "align_items": null,
            "align_self": null,
            "border": null,
            "bottom": null,
            "display": null,
            "flex": null,
            "flex_flow": null,
            "grid_area": null,
            "grid_auto_columns": null,
            "grid_auto_flow": null,
            "grid_auto_rows": null,
            "grid_column": null,
            "grid_gap": null,
            "grid_row": null,
            "grid_template_areas": null,
            "grid_template_columns": null,
            "grid_template_rows": null,
            "height": null,
            "justify_content": null,
            "justify_items": null,
            "left": null,
            "margin": null,
            "max_height": null,
            "max_width": null,
            "min_height": null,
            "min_width": null,
            "object_fit": null,
            "object_position": null,
            "order": null,
            "overflow": null,
            "overflow_x": null,
            "overflow_y": null,
            "padding": null,
            "right": null,
            "top": null,
            "visibility": null,
            "width": null
          }
        },
        "e0bb23a65f304ee2897234b2f31d7c0b": {
          "model_module": "@jupyter-widgets/controls",
          "model_name": "ProgressStyleModel",
          "model_module_version": "1.5.0",
          "state": {
            "_model_module": "@jupyter-widgets/controls",
            "_model_module_version": "1.5.0",
            "_model_name": "ProgressStyleModel",
            "_view_count": null,
            "_view_module": "@jupyter-widgets/base",
            "_view_module_version": "1.2.0",
            "_view_name": "StyleView",
            "bar_color": null,
            "description_width": ""
          }
        },
        "0051681b844849229213dbf65a073905": {
          "model_module": "@jupyter-widgets/base",
          "model_name": "LayoutModel",
          "model_module_version": "1.2.0",
          "state": {
            "_model_module": "@jupyter-widgets/base",
            "_model_module_version": "1.2.0",
            "_model_name": "LayoutModel",
            "_view_count": null,
            "_view_module": "@jupyter-widgets/base",
            "_view_module_version": "1.2.0",
            "_view_name": "LayoutView",
            "align_content": null,
            "align_items": null,
            "align_self": null,
            "border": null,
            "bottom": null,
            "display": null,
            "flex": null,
            "flex_flow": null,
            "grid_area": null,
            "grid_auto_columns": null,
            "grid_auto_flow": null,
            "grid_auto_rows": null,
            "grid_column": null,
            "grid_gap": null,
            "grid_row": null,
            "grid_template_areas": null,
            "grid_template_columns": null,
            "grid_template_rows": null,
            "height": null,
            "justify_content": null,
            "justify_items": null,
            "left": null,
            "margin": null,
            "max_height": null,
            "max_width": null,
            "min_height": null,
            "min_width": null,
            "object_fit": null,
            "object_position": null,
            "order": null,
            "overflow": null,
            "overflow_x": null,
            "overflow_y": null,
            "padding": null,
            "right": null,
            "top": null,
            "visibility": null,
            "width": null
          }
        },
        "c7ba7e1638db4e7795ca7283d9a510b8": {
          "model_module": "@jupyter-widgets/controls",
          "model_name": "DescriptionStyleModel",
          "model_module_version": "1.5.0",
          "state": {
            "_model_module": "@jupyter-widgets/controls",
            "_model_module_version": "1.5.0",
            "_model_name": "DescriptionStyleModel",
            "_view_count": null,
            "_view_module": "@jupyter-widgets/base",
            "_view_module_version": "1.2.0",
            "_view_name": "StyleView",
            "description_width": ""
          }
        },
        "038c5e16e9c148028a0155335277b551": {
          "model_module": "@jupyter-widgets/controls",
          "model_name": "HBoxModel",
          "model_module_version": "1.5.0",
          "state": {
            "_dom_classes": [],
            "_model_module": "@jupyter-widgets/controls",
            "_model_module_version": "1.5.0",
            "_model_name": "HBoxModel",
            "_view_count": null,
            "_view_module": "@jupyter-widgets/controls",
            "_view_module_version": "1.5.0",
            "_view_name": "HBoxView",
            "box_style": "",
            "children": [
              "IPY_MODEL_160d0bfb65f74b5690a0330578156406",
              "IPY_MODEL_43881d5f969a48cd9ed5a1fe5a03ae09",
              "IPY_MODEL_b446ef73a9fb44f19e8a04bf68c08654"
            ],
            "layout": "IPY_MODEL_1eab2d9ded754716ba1c29e6457b8a0b"
          }
        },
        "160d0bfb65f74b5690a0330578156406": {
          "model_module": "@jupyter-widgets/controls",
          "model_name": "HTMLModel",
          "model_module_version": "1.5.0",
          "state": {
            "_dom_classes": [],
            "_model_module": "@jupyter-widgets/controls",
            "_model_module_version": "1.5.0",
            "_model_name": "HTMLModel",
            "_view_count": null,
            "_view_module": "@jupyter-widgets/controls",
            "_view_module_version": "1.5.0",
            "_view_name": "HTMLView",
            "description": "",
            "description_tooltip": null,
            "layout": "IPY_MODEL_6f6713836583426d822fdc558db47d6d",
            "placeholder": "​",
            "style": "IPY_MODEL_239646457ddd4a039b0db89bbca6e642",
            "value": "Map: 100%"
          }
        },
        "43881d5f969a48cd9ed5a1fe5a03ae09": {
          "model_module": "@jupyter-widgets/controls",
          "model_name": "FloatProgressModel",
          "model_module_version": "1.5.0",
          "state": {
            "_dom_classes": [],
            "_model_module": "@jupyter-widgets/controls",
            "_model_module_version": "1.5.0",
            "_model_name": "FloatProgressModel",
            "_view_count": null,
            "_view_module": "@jupyter-widgets/controls",
            "_view_module_version": "1.5.0",
            "_view_name": "ProgressView",
            "bar_style": "success",
            "description": "",
            "description_tooltip": null,
            "layout": "IPY_MODEL_2cebb9f8280f453fbd04db1cc1ceda9d",
            "max": 6344,
            "min": 0,
            "orientation": "horizontal",
            "style": "IPY_MODEL_ad4e53c4733c4751aacc023f7344dad4",
            "value": 6344
          }
        },
        "b446ef73a9fb44f19e8a04bf68c08654": {
          "model_module": "@jupyter-widgets/controls",
          "model_name": "HTMLModel",
          "model_module_version": "1.5.0",
          "state": {
            "_dom_classes": [],
            "_model_module": "@jupyter-widgets/controls",
            "_model_module_version": "1.5.0",
            "_model_name": "HTMLModel",
            "_view_count": null,
            "_view_module": "@jupyter-widgets/controls",
            "_view_module_version": "1.5.0",
            "_view_name": "HTMLView",
            "description": "",
            "description_tooltip": null,
            "layout": "IPY_MODEL_03953861cc084117b20ed25719218efe",
            "placeholder": "​",
            "style": "IPY_MODEL_4e83d3852b7841609b6e4981cdcd68e2",
            "value": " 6344/6344 [00:00&lt;00:00, 9036.81 examples/s]"
          }
        },
        "1eab2d9ded754716ba1c29e6457b8a0b": {
          "model_module": "@jupyter-widgets/base",
          "model_name": "LayoutModel",
          "model_module_version": "1.2.0",
          "state": {
            "_model_module": "@jupyter-widgets/base",
            "_model_module_version": "1.2.0",
            "_model_name": "LayoutModel",
            "_view_count": null,
            "_view_module": "@jupyter-widgets/base",
            "_view_module_version": "1.2.0",
            "_view_name": "LayoutView",
            "align_content": null,
            "align_items": null,
            "align_self": null,
            "border": null,
            "bottom": null,
            "display": null,
            "flex": null,
            "flex_flow": null,
            "grid_area": null,
            "grid_auto_columns": null,
            "grid_auto_flow": null,
            "grid_auto_rows": null,
            "grid_column": null,
            "grid_gap": null,
            "grid_row": null,
            "grid_template_areas": null,
            "grid_template_columns": null,
            "grid_template_rows": null,
            "height": null,
            "justify_content": null,
            "justify_items": null,
            "left": null,
            "margin": null,
            "max_height": null,
            "max_width": null,
            "min_height": null,
            "min_width": null,
            "object_fit": null,
            "object_position": null,
            "order": null,
            "overflow": null,
            "overflow_x": null,
            "overflow_y": null,
            "padding": null,
            "right": null,
            "top": null,
            "visibility": null,
            "width": null
          }
        },
        "6f6713836583426d822fdc558db47d6d": {
          "model_module": "@jupyter-widgets/base",
          "model_name": "LayoutModel",
          "model_module_version": "1.2.0",
          "state": {
            "_model_module": "@jupyter-widgets/base",
            "_model_module_version": "1.2.0",
            "_model_name": "LayoutModel",
            "_view_count": null,
            "_view_module": "@jupyter-widgets/base",
            "_view_module_version": "1.2.0",
            "_view_name": "LayoutView",
            "align_content": null,
            "align_items": null,
            "align_self": null,
            "border": null,
            "bottom": null,
            "display": null,
            "flex": null,
            "flex_flow": null,
            "grid_area": null,
            "grid_auto_columns": null,
            "grid_auto_flow": null,
            "grid_auto_rows": null,
            "grid_column": null,
            "grid_gap": null,
            "grid_row": null,
            "grid_template_areas": null,
            "grid_template_columns": null,
            "grid_template_rows": null,
            "height": null,
            "justify_content": null,
            "justify_items": null,
            "left": null,
            "margin": null,
            "max_height": null,
            "max_width": null,
            "min_height": null,
            "min_width": null,
            "object_fit": null,
            "object_position": null,
            "order": null,
            "overflow": null,
            "overflow_x": null,
            "overflow_y": null,
            "padding": null,
            "right": null,
            "top": null,
            "visibility": null,
            "width": null
          }
        },
        "239646457ddd4a039b0db89bbca6e642": {
          "model_module": "@jupyter-widgets/controls",
          "model_name": "DescriptionStyleModel",
          "model_module_version": "1.5.0",
          "state": {
            "_model_module": "@jupyter-widgets/controls",
            "_model_module_version": "1.5.0",
            "_model_name": "DescriptionStyleModel",
            "_view_count": null,
            "_view_module": "@jupyter-widgets/base",
            "_view_module_version": "1.2.0",
            "_view_name": "StyleView",
            "description_width": ""
          }
        },
        "2cebb9f8280f453fbd04db1cc1ceda9d": {
          "model_module": "@jupyter-widgets/base",
          "model_name": "LayoutModel",
          "model_module_version": "1.2.0",
          "state": {
            "_model_module": "@jupyter-widgets/base",
            "_model_module_version": "1.2.0",
            "_model_name": "LayoutModel",
            "_view_count": null,
            "_view_module": "@jupyter-widgets/base",
            "_view_module_version": "1.2.0",
            "_view_name": "LayoutView",
            "align_content": null,
            "align_items": null,
            "align_self": null,
            "border": null,
            "bottom": null,
            "display": null,
            "flex": null,
            "flex_flow": null,
            "grid_area": null,
            "grid_auto_columns": null,
            "grid_auto_flow": null,
            "grid_auto_rows": null,
            "grid_column": null,
            "grid_gap": null,
            "grid_row": null,
            "grid_template_areas": null,
            "grid_template_columns": null,
            "grid_template_rows": null,
            "height": null,
            "justify_content": null,
            "justify_items": null,
            "left": null,
            "margin": null,
            "max_height": null,
            "max_width": null,
            "min_height": null,
            "min_width": null,
            "object_fit": null,
            "object_position": null,
            "order": null,
            "overflow": null,
            "overflow_x": null,
            "overflow_y": null,
            "padding": null,
            "right": null,
            "top": null,
            "visibility": null,
            "width": null
          }
        },
        "ad4e53c4733c4751aacc023f7344dad4": {
          "model_module": "@jupyter-widgets/controls",
          "model_name": "ProgressStyleModel",
          "model_module_version": "1.5.0",
          "state": {
            "_model_module": "@jupyter-widgets/controls",
            "_model_module_version": "1.5.0",
            "_model_name": "ProgressStyleModel",
            "_view_count": null,
            "_view_module": "@jupyter-widgets/base",
            "_view_module_version": "1.2.0",
            "_view_name": "StyleView",
            "bar_color": null,
            "description_width": ""
          }
        },
        "03953861cc084117b20ed25719218efe": {
          "model_module": "@jupyter-widgets/base",
          "model_name": "LayoutModel",
          "model_module_version": "1.2.0",
          "state": {
            "_model_module": "@jupyter-widgets/base",
            "_model_module_version": "1.2.0",
            "_model_name": "LayoutModel",
            "_view_count": null,
            "_view_module": "@jupyter-widgets/base",
            "_view_module_version": "1.2.0",
            "_view_name": "LayoutView",
            "align_content": null,
            "align_items": null,
            "align_self": null,
            "border": null,
            "bottom": null,
            "display": null,
            "flex": null,
            "flex_flow": null,
            "grid_area": null,
            "grid_auto_columns": null,
            "grid_auto_flow": null,
            "grid_auto_rows": null,
            "grid_column": null,
            "grid_gap": null,
            "grid_row": null,
            "grid_template_areas": null,
            "grid_template_columns": null,
            "grid_template_rows": null,
            "height": null,
            "justify_content": null,
            "justify_items": null,
            "left": null,
            "margin": null,
            "max_height": null,
            "max_width": null,
            "min_height": null,
            "min_width": null,
            "object_fit": null,
            "object_position": null,
            "order": null,
            "overflow": null,
            "overflow_x": null,
            "overflow_y": null,
            "padding": null,
            "right": null,
            "top": null,
            "visibility": null,
            "width": null
          }
        },
        "4e83d3852b7841609b6e4981cdcd68e2": {
          "model_module": "@jupyter-widgets/controls",
          "model_name": "DescriptionStyleModel",
          "model_module_version": "1.5.0",
          "state": {
            "_model_module": "@jupyter-widgets/controls",
            "_model_module_version": "1.5.0",
            "_model_name": "DescriptionStyleModel",
            "_view_count": null,
            "_view_module": "@jupyter-widgets/base",
            "_view_module_version": "1.2.0",
            "_view_name": "StyleView",
            "description_width": ""
          }
        }
      }
    }
  },
  "cells": [
    {
      "cell_type": "markdown",
      "metadata": {
        "id": "view-in-github",
        "colab_type": "text"
      },
      "source": [
        "<a href=\"https://colab.research.google.com/github/w4rr4nt/nlp-project/blob/main/Roberta_Project.ipynb\" target=\"_parent\"><img src=\"https://colab.research.google.com/assets/colab-badge.svg\" alt=\"Open In Colab\"/></a>"
      ]
    },
    {
      "cell_type": "markdown",
      "source": [
        "### Imports"
      ],
      "metadata": {
        "id": "kZvbR3vDFxXY"
      }
    },
    {
      "cell_type": "code",
      "execution_count": 56,
      "metadata": {
        "id": "AyN11YAq8KTE"
      },
      "outputs": [],
      "source": [
        "import datasets\n",
        "import transformers\n",
        "import numpy as np\n",
        "import matplotlib.pyplot as plt\n",
        "import pandas as pd\n",
        "\n",
        "from transformers import (\n",
        "    RobertaTokenizerFast,\n",
        "    RobertaForSequenceClassification,\n",
        "    TrainingArguments,\n",
        "    Trainer,\n",
        "    AutoConfig,\n",
        ")\n",
        "from sklearn import metrics\n",
        "from sklearn.metrics import confusion_matrix, ConfusionMatrixDisplay\n",
        "from numpy import arange\n",
        "from textattack.goal_functions import TargetedClassification\n",
        "from textattack.transformations import WordSwapEmbedding\n",
        "from textattack.constraints.semantics.sentence_encoders import UniversalSentenceEncoder\n",
        "from textattack.search_methods import GreedyWordSwapWIR"
      ]
    },
    {
      "cell_type": "markdown",
      "source": [
        "### Dataset Setup"
      ],
      "metadata": {
        "id": "qYq1oVlbFu2l"
      }
    },
    {
      "cell_type": "code",
      "source": [
        "dataset = datasets.load_dataset('SetFit/enron_spam')"
      ],
      "metadata": {
        "colab": {
          "base_uri": "https://localhost:8080/"
        },
        "id": "XGqp1w238wuv",
        "outputId": "85fecb75-84d1-4976-f81e-c3663459d505"
      },
      "execution_count": 57,
      "outputs": [
        {
          "output_type": "stream",
          "name": "stderr",
          "text": [
            "Repo card metadata block was not found. Setting CardData to empty.\n",
            "WARNING:huggingface_hub.repocard:Repo card metadata block was not found. Setting CardData to empty.\n"
          ]
        }
      ]
    },
    {
      "cell_type": "code",
      "source": [
        "dataset"
      ],
      "metadata": {
        "colab": {
          "base_uri": "https://localhost:8080/"
        },
        "id": "YIDdUdiR9I2r",
        "outputId": "a1d9bb19-4c96-4aa9-881d-a4262d18b4b1"
      },
      "execution_count": 58,
      "outputs": [
        {
          "output_type": "execute_result",
          "data": {
            "text/plain": [
              "DatasetDict({\n",
              "    train: Dataset({\n",
              "        features: ['message_id', 'text', 'label', 'label_text', 'subject', 'message', 'date'],\n",
              "        num_rows: 31716\n",
              "    })\n",
              "    test: Dataset({\n",
              "        features: ['message_id', 'text', 'label', 'label_text', 'subject', 'message', 'date'],\n",
              "        num_rows: 2000\n",
              "    })\n",
              "})"
            ]
          },
          "metadata": {},
          "execution_count": 58
        }
      ]
    },
    {
      "cell_type": "code",
      "source": [
        "test_dataset = dataset['test']"
      ],
      "metadata": {
        "id": "b6spFH3X85dr"
      },
      "execution_count": 59,
      "outputs": []
    },
    {
      "cell_type": "code",
      "source": [
        "dataset = dataset['train'].train_test_split(test_size=0.2)"
      ],
      "metadata": {
        "id": "3Y3mm6Z3_cPl"
      },
      "execution_count": 60,
      "outputs": []
    },
    {
      "cell_type": "code",
      "source": [
        "train_dataset = dataset['train']\n",
        "val_dataset = dataset['test']"
      ],
      "metadata": {
        "id": "U7qlC8oxD73E"
      },
      "execution_count": 61,
      "outputs": []
    },
    {
      "cell_type": "code",
      "source": [
        "train_dataset"
      ],
      "metadata": {
        "colab": {
          "base_uri": "https://localhost:8080/"
        },
        "id": "PcD1G02m_d8c",
        "outputId": "3e757a0a-0af2-4c3e-e17c-f757821b2497"
      },
      "execution_count": 62,
      "outputs": [
        {
          "output_type": "execute_result",
          "data": {
            "text/plain": [
              "Dataset({\n",
              "    features: ['message_id', 'text', 'label', 'label_text', 'subject', 'message', 'date'],\n",
              "    num_rows: 25372\n",
              "})"
            ]
          },
          "metadata": {},
          "execution_count": 62
        }
      ]
    },
    {
      "cell_type": "code",
      "source": [
        "val_dataset"
      ],
      "metadata": {
        "colab": {
          "base_uri": "https://localhost:8080/"
        },
        "id": "B93dt-uJDFOB",
        "outputId": "043af1ac-109d-4774-8229-b6fa8a6facfc"
      },
      "execution_count": 63,
      "outputs": [
        {
          "output_type": "execute_result",
          "data": {
            "text/plain": [
              "Dataset({\n",
              "    features: ['message_id', 'text', 'label', 'label_text', 'subject', 'message', 'date'],\n",
              "    num_rows: 6344\n",
              "})"
            ]
          },
          "metadata": {},
          "execution_count": 63
        }
      ]
    },
    {
      "cell_type": "code",
      "source": [
        "test_dataset"
      ],
      "metadata": {
        "colab": {
          "base_uri": "https://localhost:8080/"
        },
        "id": "dYAOmi1f_fdp",
        "outputId": "6e585994-e2bf-4f0a-c07b-f9cc106dd8bd"
      },
      "execution_count": 64,
      "outputs": [
        {
          "output_type": "execute_result",
          "data": {
            "text/plain": [
              "Dataset({\n",
              "    features: ['message_id', 'text', 'label', 'label_text', 'subject', 'message', 'date'],\n",
              "    num_rows: 2000\n",
              "})"
            ]
          },
          "metadata": {},
          "execution_count": 64
        }
      ]
    },
    {
      "cell_type": "markdown",
      "source": [
        "### Tokenization"
      ],
      "metadata": {
        "id": "Et-7V6RQGFq9"
      }
    },
    {
      "cell_type": "code",
      "source": [
        "tokenizer = RobertaTokenizerFast.from_pretrained('roberta-base')\n",
        "\n",
        "def tokenize(batch):\n",
        "    return tokenizer(batch[\"message\"], padding=True, truncation=True, max_length=256)\n",
        "\n",
        "train_map = train_dataset.map(tokenize, batched=True, batch_size=len(train_dataset))\n",
        "val_map = val_dataset.map(tokenize, batched=True, batch_size=len(val_dataset))\n",
        "test_map = test_dataset.map(tokenize, batched=True, batch_size=len(test_dataset))"
      ],
      "metadata": {
        "colab": {
          "base_uri": "https://localhost:8080/",
          "height": 116,
          "referenced_widgets": [
            "df82e27a59464d84abebd29ef1dd4f7a",
            "849c094fe81145cb8de91d00f1ed8924",
            "62ea87e765d74972a9f6c1c4d47d7bdb",
            "8b2473ecf6f64df8b20c89f2c59ab9ba",
            "bad7da02904944efa107d2ab556a1a10",
            "c834ddbb20e5417792691553d36f88bc",
            "b0ab2feb581f4ec1b9f9865abe59729f",
            "550a7c1bcb714d47a4fa10fd5ef83491",
            "e0bb23a65f304ee2897234b2f31d7c0b",
            "0051681b844849229213dbf65a073905",
            "c7ba7e1638db4e7795ca7283d9a510b8",
            "038c5e16e9c148028a0155335277b551",
            "160d0bfb65f74b5690a0330578156406",
            "43881d5f969a48cd9ed5a1fe5a03ae09",
            "b446ef73a9fb44f19e8a04bf68c08654",
            "1eab2d9ded754716ba1c29e6457b8a0b",
            "6f6713836583426d822fdc558db47d6d",
            "239646457ddd4a039b0db89bbca6e642",
            "2cebb9f8280f453fbd04db1cc1ceda9d",
            "ad4e53c4733c4751aacc023f7344dad4",
            "03953861cc084117b20ed25719218efe",
            "4e83d3852b7841609b6e4981cdcd68e2"
          ]
        },
        "id": "B4-QwM9k87B_",
        "outputId": "95857be7-5d8c-44b4-f7fb-a446d3f5f1fc"
      },
      "execution_count": 65,
      "outputs": [
        {
          "output_type": "display_data",
          "data": {
            "text/plain": [
              "Map:   0%|          | 0/25372 [00:00<?, ? examples/s]"
            ],
            "application/vnd.jupyter.widget-view+json": {
              "version_major": 2,
              "version_minor": 0,
              "model_id": "df82e27a59464d84abebd29ef1dd4f7a"
            }
          },
          "metadata": {}
        },
        {
          "output_type": "stream",
          "name": "stderr",
          "text": [
            "  0%|          | 0/10 [10:52<?, ?it/s]\n",
            "  0%|          | 0/10 [02:28<?, ?it/s]\n"
          ]
        },
        {
          "output_type": "display_data",
          "data": {
            "text/plain": [
              "Map:   0%|          | 0/6344 [00:00<?, ? examples/s]"
            ],
            "application/vnd.jupyter.widget-view+json": {
              "version_major": 2,
              "version_minor": 0,
              "model_id": "038c5e16e9c148028a0155335277b551"
            }
          },
          "metadata": {}
        }
      ]
    },
    {
      "cell_type": "markdown",
      "source": [
        "### Training Distribution"
      ],
      "metadata": {
        "id": "QIOYZqhjFXfv"
      }
    },
    {
      "cell_type": "code",
      "source": [
        "# Get target training  labels and counts of each type of label\n",
        "bins, counts = np.unique(train_dataset['label'], return_counts=True)\n",
        "print(counts/len(train_dataset))\n",
        "# Create frequency series of training data\n",
        "freq_series = pd.Series(counts/len(train_dataset))\n",
        "# Create plot\n",
        "plt.figure()\n",
        "ax = freq_series.plot(kind='bar')\n",
        "ax.set_xticklabels(bins, rotation=0)\n",
        "plt.show()"
      ],
      "metadata": {
        "colab": {
          "base_uri": "https://localhost:8080/",
          "height": 0
        },
        "id": "6qZJchWnFRxd",
        "outputId": "8aeefb9a-1096-4c3a-f177-de2e0bc6dd26"
      },
      "execution_count": 66,
      "outputs": [
        {
          "output_type": "stream",
          "name": "stdout",
          "text": [
            "[0.49160492 0.50839508]\n"
          ]
        },
        {
          "output_type": "display_data",
          "data": {
            "text/plain": [
              "<Figure size 640x480 with 1 Axes>"
            ],
            "image/png": "[encoded data removed]"
          },
          "metadata": {}
        }
      ]
    },
    {
      "cell_type": "markdown",
      "source": [
        "### Validation Distribution"
      ],
      "metadata": {
        "id": "WuFeLCMjFaMj"
      }
    },
    {
      "cell_type": "code",
      "source": [
        "# Get target training  labels and counts of each type of label\n",
        "bins, counts = np.unique(val_dataset['label'], return_counts=True)\n",
        "print(counts/len(val_dataset))\n",
        "# Create frequency series of training data\n",
        "freq_series = pd.Series(counts/len(val_dataset))\n",
        "# Create plot\n",
        "plt.figure()\n",
        "ax = freq_series.plot(kind='bar')\n",
        "ax.set_xticklabels(bins, rotation=0)\n",
        "plt.show()"
      ],
      "metadata": {
        "colab": {
          "base_uri": "https://localhost:8080/",
          "height": 0
        },
        "id": "ueNZTtCYFc-q",
        "outputId": "ee37d681-1073-42a3-e457-af6b706d393b"
      },
      "execution_count": 67,
      "outputs": [
        {
          "output_type": "stream",
          "name": "stdout",
          "text": [
            "[0.48549811 0.51450189]\n"
          ]
        },
        {
          "output_type": "display_data",
          "data": {
            "text/plain": [
              "<Figure size 640x480 with 1 Axes>"
            ],
            "image/png": "[encoded data removed]"
          },
          "metadata": {}
        }
      ]
    },
    {
      "cell_type": "markdown",
      "source": [
        "### Testing Distribution"
      ],
      "metadata": {
        "id": "QAIa09hDFjJt"
      }
    },
    {
      "cell_type": "code",
      "source": [
        "# Get target training  labels and counts of each type of label\n",
        "bins, counts = np.unique(test_dataset['label'], return_counts=True)\n",
        "print(counts/len(test_dataset))\n",
        "# Create frequency series of training data\n",
        "freq_series = pd.Series(counts/len(test_dataset))\n",
        "# Create plot\n",
        "plt.figure()\n",
        "ax = freq_series.plot(kind='bar')\n",
        "ax.set_xticklabels(bins, rotation=0)\n",
        "plt.show()"
      ],
      "metadata": {
        "colab": {
          "base_uri": "https://localhost:8080/",
          "height": 0
        },
        "id": "E4VFV9tbFlDJ",
        "outputId": "7e94d5cf-458f-463c-8ed2-ad8c1f29010e"
      },
      "execution_count": 68,
      "outputs": [
        {
          "output_type": "stream",
          "name": "stdout",
          "text": [
            "[0.496 0.504]\n"
          ]
        },
        {
          "output_type": "display_data",
          "data": {
            "text/plain": [
              "<Figure size 640x480 with 1 Axes>"
            ],
            "image/png": "[encoded data removed]"
          },
          "metadata": {}
        }
      ]
    },
    {
      "cell_type": "markdown",
      "source": [
        "### Dataset Mapping"
      ],
      "metadata": {
        "id": "Ste7tYHAFpbK"
      }
    },
    {
      "cell_type": "code",
      "source": [
        "train_map"
      ],
      "metadata": {
        "colab": {
          "base_uri": "https://localhost:8080/"
        },
        "id": "jvTEI3JeFrh_",
        "outputId": "071a3112-df07-4f87-88fe-126a964efa86"
      },
      "execution_count": 69,
      "outputs": [
        {
          "output_type": "execute_result",
          "data": {
            "text/plain": [
              "Dataset({\n",
              "    features: ['message_id', 'text', 'label', 'label_text', 'subject', 'message', 'date', 'input_ids', 'attention_mask'],\n",
              "    num_rows: 25372\n",
              "})"
            ]
          },
          "metadata": {},
          "execution_count": 69
        }
      ]
    },
    {
      "cell_type": "code",
      "source": [
        "val_map"
      ],
      "metadata": {
        "colab": {
          "base_uri": "https://localhost:8080/"
        },
        "id": "SlqoaGvLGRSp",
        "outputId": "3ea9a55a-e5a8-4893-9f68-fe1e69498664"
      },
      "execution_count": 70,
      "outputs": [
        {
          "output_type": "execute_result",
          "data": {
            "text/plain": [
              "Dataset({\n",
              "    features: ['message_id', 'text', 'label', 'label_text', 'subject', 'message', 'date', 'input_ids', 'attention_mask'],\n",
              "    num_rows: 6344\n",
              "})"
            ]
          },
          "metadata": {},
          "execution_count": 70
        }
      ]
    },
    {
      "cell_type": "code",
      "source": [
        "test_map"
      ],
      "metadata": {
        "colab": {
          "base_uri": "https://localhost:8080/"
        },
        "id": "jBm15xg8GS0M",
        "outputId": "410920f1-1048-4596-eb62-939dfe787bce"
      },
      "execution_count": 71,
      "outputs": [
        {
          "output_type": "execute_result",
          "data": {
            "text/plain": [
              "Dataset({\n",
              "    features: ['message_id', 'text', 'label', 'label_text', 'subject', 'message', 'date', 'input_ids', 'attention_mask'],\n",
              "    num_rows: 2000\n",
              "})"
            ]
          },
          "metadata": {},
          "execution_count": 71
        }
      ]
    },
    {
      "cell_type": "code",
      "source": [
        "train_map.set_format(\"torch\", columns=[\"input_ids\", \"attention_mask\", \"label\"])\n",
        "val_map.set_format(\"torch\", columns=[\"input_ids\", \"attention_mask\", \"label\"])\n",
        "test_map.set_format(\"torch\", columns=[\"input_ids\", \"attention_mask\", \"label\"])"
      ],
      "metadata": {
        "id": "62oUdb-cGdqL"
      },
      "execution_count": 72,
      "outputs": []
    },
    {
      "cell_type": "code",
      "source": [
        "train_map"
      ],
      "metadata": {
        "colab": {
          "base_uri": "https://localhost:8080/"
        },
        "id": "hkFWaKRDGq96",
        "outputId": "554bb3b3-ab3d-4f2b-f625-7e0917e76e51"
      },
      "execution_count": 73,
      "outputs": [
        {
          "output_type": "execute_result",
          "data": {
            "text/plain": [
              "Dataset({\n",
              "    features: ['message_id', 'text', 'label', 'label_text', 'subject', 'message', 'date', 'input_ids', 'attention_mask'],\n",
              "    num_rows: 25372\n",
              "})"
            ]
          },
          "metadata": {},
          "execution_count": 73
        }
      ]
    },
    {
      "cell_type": "code",
      "source": [
        "val_map"
      ],
      "metadata": {
        "colab": {
          "base_uri": "https://localhost:8080/"
        },
        "id": "GG0O01yAIN2C",
        "outputId": "0938e7c6-c73c-4ba2-880d-fb360dab6452"
      },
      "execution_count": 74,
      "outputs": [
        {
          "output_type": "execute_result",
          "data": {
            "text/plain": [
              "Dataset({\n",
              "    features: ['message_id', 'text', 'label', 'label_text', 'subject', 'message', 'date', 'input_ids', 'attention_mask'],\n",
              "    num_rows: 6344\n",
              "})"
            ]
          },
          "metadata": {},
          "execution_count": 74
        }
      ]
    },
    {
      "cell_type": "code",
      "source": [
        "test_map"
      ],
      "metadata": {
        "colab": {
          "base_uri": "https://localhost:8080/"
        },
        "id": "eecV5epgIPuw",
        "outputId": "68c0dd1c-3793-4f61-c3bc-ad5c8e4b66cb"
      },
      "execution_count": 75,
      "outputs": [
        {
          "output_type": "execute_result",
          "data": {
            "text/plain": [
              "Dataset({\n",
              "    features: ['message_id', 'text', 'label', 'label_text', 'subject', 'message', 'date', 'input_ids', 'attention_mask'],\n",
              "    num_rows: 2000\n",
              "})"
            ]
          },
          "metadata": {},
          "execution_count": 75
        }
      ]
    },
    {
      "cell_type": "markdown",
      "source": [
        "### Model Setup"
      ],
      "metadata": {
        "id": "YxorEwGoIadi"
      }
    },
    {
      "cell_type": "code",
      "source": [
        "model = RobertaForSequenceClassification.from_pretrained('roberta-base', num_labels=2)\n",
        "\n",
        "model.config"
      ],
      "metadata": {
        "colab": {
          "base_uri": "https://localhost:8080/"
        },
        "id": "lDGeAqZhI1VE",
        "outputId": "ea5e19ae-bc0a-418f-b81b-4ea2c477be4f"
      },
      "execution_count": 76,
      "outputs": [
        {
          "output_type": "stream",
          "name": "stderr",
          "text": [
            "Some weights of RobertaForSequenceClassification were not initialized from the model checkpoint at roberta-base and are newly initialized: ['classifier.dense.bias', 'classifier.dense.weight', 'classifier.out_proj.bias', 'classifier.out_proj.weight']\n",
            "You should probably TRAIN this model on a down-stream task to be able to use it for predictions and inference.\n"
          ]
        },
        {
          "output_type": "execute_result",
          "data": {
            "text/plain": [
              "RobertaConfig {\n",
              "  \"_name_or_path\": \"roberta-base\",\n",
              "  \"architectures\": [\n",
              "    \"RobertaForMaskedLM\"\n",
              "  ],\n",
              "  \"attention_probs_dropout_prob\": 0.1,\n",
              "  \"bos_token_id\": 0,\n",
              "  \"classifier_dropout\": null,\n",
              "  \"eos_token_id\": 2,\n",
              "  \"hidden_act\": \"gelu\",\n",
              "  \"hidden_dropout_prob\": 0.1,\n",
              "  \"hidden_size\": 768,\n",
              "  \"initializer_range\": 0.02,\n",
              "  \"intermediate_size\": 3072,\n",
              "  \"layer_norm_eps\": 1e-05,\n",
              "  \"max_position_embeddings\": 514,\n",
              "  \"model_type\": \"roberta\",\n",
              "  \"num_attention_heads\": 12,\n",
              "  \"num_hidden_layers\": 12,\n",
              "  \"pad_token_id\": 1,\n",
              "  \"position_embedding_type\": \"absolute\",\n",
              "  \"transformers_version\": \"4.38.2\",\n",
              "  \"type_vocab_size\": 1,\n",
              "  \"use_cache\": true,\n",
              "  \"vocab_size\": 50265\n",
              "}"
            ]
          },
          "metadata": {},
          "execution_count": 76
        }
      ]
    },
    {
      "cell_type": "code",
      "source": [
        "# TrainingArguments\n",
        "training_args = TrainingArguments(\n",
        "    output_dir='./results',\n",
        "    num_train_epochs=5,\n",
        "    per_device_train_batch_size=32,\n",
        "    per_device_eval_batch_size=32,\n",
        "    evaluation_strategy=\"epoch\",\n",
        "    learning_rate=0.0001,\n",
        "    warmup_steps=500,\n",
        ")\n",
        "\n",
        "# Trainer\n",
        "trainer = Trainer(\n",
        "    model=model,\n",
        "    args=training_args,\n",
        "    train_dataset=train_map,\n",
        "    eval_dataset=val_map,\n",
        ")"
      ],
      "metadata": {
        "colab": {
          "base_uri": "https://localhost:8080/"
        },
        "id": "6BpbZUM6IcWy",
        "outputId": "999ee474-604a-43fc-8193-c3294f4d09b5"
      },
      "execution_count": 77,
      "outputs": [
        {
          "output_type": "stream",
          "name": "stderr",
          "text": [
            "/usr/local/lib/python3.10/dist-packages/accelerate/accelerator.py:436: FutureWarning: Passing the following arguments to `Accelerator` is deprecated and will be removed in version 1.0 of Accelerate: dict_keys(['dispatch_batches', 'split_batches', 'even_batches', 'use_seedable_sampler']). Please pass an `accelerate.DataLoaderConfiguration` instead: \n",
            "dataloader_config = DataLoaderConfiguration(dispatch_batches=None, split_batches=False, even_batches=True, use_seedable_sampler=True)\n",
            "  warnings.warn(\n"
          ]
        }
      ]
    },
    {
      "cell_type": "code",
      "source": [
        "#training_output = trainer.train()"
      ],
      "metadata": {
        "colab": {
          "base_uri": "https://localhost:8080/",
          "height": 353
        },
        "id": "ctlJczaDJJKU",
        "outputId": "2647d160-7319-4ddd-cea4-90087f8461d2"
      },
      "execution_count": 78,
      "outputs": [
        {
          "output_type": "display_data",
          "data": {
            "text/plain": [
              "<IPython.core.display.HTML object>"
            ],
            "text/html": [
              "\n",
              "    <div>\n",
              "      \n",
              "      <progress value='3965' max='3965' style='width:300px; height:20px; vertical-align: middle;'></progress>\n",
              "      [3965/3965 13:16, Epoch 5/5]\n",
              "    </div>\n",
              "    <table border=\"1\" class=\"dataframe\">\n",
              "  <thead>\n",
              " <tr style=\"text-align: left;\">\n",
              "      <th>Epoch</th>\n",
              "      <th>Training Loss</th>\n",
              "      <th>Validation Loss</th>\n",
              "    </tr>\n",
              "  </thead>\n",
              "  <tbody>\n",
              "    <tr>\n",
              "      <td>1</td>\n",
              "      <td>0.181500</td>\n",
              "      <td>0.058114</td>\n",
              "    </tr>\n",
              "    <tr>\n",
              "      <td>2</td>\n",
              "      <td>0.070100</td>\n",
              "      <td>0.045750</td>\n",
              "    </tr>\n",
              "    <tr>\n",
              "      <td>3</td>\n",
              "      <td>0.042000</td>\n",
              "      <td>0.037032</td>\n",
              "    </tr>\n",
              "    <tr>\n",
              "      <td>4</td>\n",
              "      <td>0.019000</td>\n",
              "      <td>0.048919</td>\n",
              "    </tr>\n",
              "    <tr>\n",
              "      <td>5</td>\n",
              "      <td>0.015900</td>\n",
              "      <td>0.038549</td>\n",
              "    </tr>\n",
              "  </tbody>\n",
              "</table><p>"
            ]
          },
          "metadata": {}
        },
        {
          "output_type": "stream",
          "name": "stderr",
          "text": [
            "Checkpoint destination directory ./results/checkpoint-500 already exists and is non-empty. Saving will proceed but saved results may be invalid.\n",
            "Checkpoint destination directory ./results/checkpoint-1000 already exists and is non-empty. Saving will proceed but saved results may be invalid.\n",
            "Checkpoint destination directory ./results/checkpoint-1500 already exists and is non-empty. Saving will proceed but saved results may be invalid.\n",
            "Checkpoint destination directory ./results/checkpoint-2000 already exists and is non-empty. Saving will proceed but saved results may be invalid.\n",
            "Checkpoint destination directory ./results/checkpoint-2500 already exists and is non-empty. Saving will proceed but saved results may be invalid.\n",
            "Checkpoint destination directory ./results/checkpoint-3000 already exists and is non-empty. Saving will proceed but saved results may be invalid.\n",
            "Checkpoint destination directory ./results/checkpoint-3500 already exists and is non-empty. Saving will proceed but saved results may be invalid.\n"
          ]
        }
      ]
    },
    {
      "cell_type": "markdown",
      "source": [
        "### Training and Validation Loss"
      ],
      "metadata": {
        "id": "xiSWiKbzQ8xc"
      }
    },
    {
      "cell_type": "code",
      "source": [
        "# Retrieve each dictionary's values\n",
        "train_values = [0.172200, 0.060900, 0.045700, 0.030000, 0.020000]\n",
        "val_values = [0.058725, 0.043436, 0.038046, 0.034193, 0.041959]\n",
        "\n",
        "# Generate a sequence of integers to represent the epoch numbers\n",
        "epochs = range(0, 5)\n",
        "\n",
        "# Plot and label the training and validation loss values\n",
        "plt.plot(epochs, train_values, label='Training Loss')\n",
        "plt.plot(epochs, val_values, label='Validation Loss')\n",
        "\n",
        "# Add in a title and axes labels\n",
        "plt.title('Training and Validation Loss')\n",
        "plt.xlabel('Epochs')\n",
        "plt.ylabel('Loss')\n",
        "\n",
        "# Set the tick locations\n",
        "plt.xticks(arange(0, 6))\n",
        "\n",
        "# Display the plot\n",
        "plt.legend(loc='best')\n",
        "plt.show()"
      ],
      "metadata": {
        "colab": {
          "base_uri": "https://localhost:8080/",
          "height": 472
        },
        "id": "50lyjmwNQ_1x",
        "outputId": "868754d5-22d0-4dc0-ca0e-8ce6a01cc3f8"
      },
      "execution_count": 26,
      "outputs": [
        {
          "output_type": "display_data",
          "data": {
            "text/plain": [
              "<Figure size 640x480 with 1 Axes>"
            ],
            "image/png": "[encoded data removed]"
          },
          "metadata": {}
        }
      ]
    },
    {
      "cell_type": "markdown",
      "source": [
        "### Train and Evaluate"
      ],
      "metadata": {
        "id": "XUDw5jCQRAPE"
      }
    },
    {
      "cell_type": "code",
      "source": [
        "trainer.evaluate()"
      ],
      "metadata": {
        "colab": {
          "base_uri": "https://localhost:8080/",
          "height": 124
        },
        "id": "jH9avd8dJR7D",
        "outputId": "11b15a18-bd5c-46b3-bbc2-1c05e6b58b0f"
      },
      "execution_count": 79,
      "outputs": [
        {
          "output_type": "display_data",
          "data": {
            "text/plain": [
              "<IPython.core.display.HTML object>"
            ],
            "text/html": [
              "\n",
              "    <div>\n",
              "      \n",
              "      <progress value='199' max='199' style='width:300px; height:20px; vertical-align: middle;'></progress>\n",
              "      [199/199 00:12]\n",
              "    </div>\n",
              "    "
            ]
          },
          "metadata": {}
        },
        {
          "output_type": "execute_result",
          "data": {
            "text/plain": [
              "{'eval_loss': 0.03854909911751747,\n",
              " 'eval_runtime': 12.1321,\n",
              " 'eval_samples_per_second': 522.91,\n",
              " 'eval_steps_per_second': 16.403,\n",
              " 'epoch': 5.0}"
            ]
          },
          "metadata": {},
          "execution_count": 79
        }
      ]
    },
    {
      "cell_type": "code",
      "source": [
        "#trainer.save_model('roberta-fine-tune-model')"
      ],
      "metadata": {
        "id": "_9_m2_sQt2tU"
      },
      "execution_count": 80,
      "outputs": []
    },
    {
      "cell_type": "code",
      "source": [
        "trainer.save_model('roberta-fine-tune-model-1.2')"
      ],
      "metadata": {
        "id": "9GwIpBJBzWz7"
      },
      "execution_count": null,
      "outputs": []
    },
    {
      "cell_type": "code",
      "source": [
        "test_predictions = trainer.predict(test_map)"
      ],
      "metadata": {
        "colab": {
          "base_uri": "https://localhost:8080/",
          "height": 17
        },
        "id": "asUv4nYkPdZK",
        "outputId": "9c01bb98-d598-4ed8-ca48-c7b95f6cbf11"
      },
      "execution_count": 81,
      "outputs": [
        {
          "output_type": "display_data",
          "data": {
            "text/plain": [
              "<IPython.core.display.HTML object>"
            ],
            "text/html": []
          },
          "metadata": {}
        }
      ]
    },
    {
      "cell_type": "code",
      "source": [
        "test_preds = test_predictions.predictions.argmax(-1)"
      ],
      "metadata": {
        "id": "UhqAObUPPnqM"
      },
      "execution_count": 82,
      "outputs": []
    },
    {
      "cell_type": "code",
      "source": [
        "print(metrics.classification_report(test_map['label'], test_preds, target_names=['not-spam','spam']))"
      ],
      "metadata": {
        "colab": {
          "base_uri": "https://localhost:8080/"
        },
        "id": "hOCYxp1GP8GD",
        "outputId": "54a8b8c5-d58b-4f5c-a74e-96d92c54c30b"
      },
      "execution_count": 83,
      "outputs": [
        {
          "output_type": "stream",
          "name": "stdout",
          "text": [
            "              precision    recall  f1-score   support\n",
            "\n",
            "    not-spam       1.00      0.99      0.99       992\n",
            "        spam       0.99      1.00      0.99      1008\n",
            "\n",
            "    accuracy                           0.99      2000\n",
            "   macro avg       0.99      0.99      0.99      2000\n",
            "weighted avg       0.99      0.99      0.99      2000\n",
            "\n"
          ]
        }
      ]
    },
    {
      "cell_type": "markdown",
      "source": [
        "### TextAttack"
      ],
      "metadata": {
        "id": "Nutpnw1Mmmn4"
      }
    },
    {
      "cell_type": "code",
      "source": [
        "from textattack import Attack\n",
        "from textattack import Attacker\n",
        "from textattack.datasets import HuggingFaceDataset\n",
        "from textattack.models.wrappers import TensorFlowModelWrapper, HuggingFaceModelWrapper"
      ],
      "metadata": {
        "id": "dvvWID7Omo7S"
      },
      "execution_count": 87,
      "outputs": []
    },
    {
      "cell_type": "code",
      "source": [
        "tuned_model = RobertaForSequenceClassification.from_pretrained('./roberta-fine-tune-model')"
      ],
      "metadata": {
        "id": "BFawCnf5uOGq"
      },
      "execution_count": 85,
      "outputs": []
    },
    {
      "cell_type": "code",
      "source": [
        "model_wrapper = HuggingFaceModelWrapper(tuned_model, tokenizer)"
      ],
      "metadata": {
        "id": "AHHmeXtGmy17"
      },
      "execution_count": 88,
      "outputs": []
    },
    {
      "cell_type": "code",
      "source": [
        "dataset = HuggingFaceDataset(\"SetFit/enron_spam\", None, \"train\", dataset_columns=(['message'],'label'))"
      ],
      "metadata": {
        "colab": {
          "base_uri": "https://localhost:8080/"
        },
        "id": "96OGrp6TnBTu",
        "outputId": "0b92849b-fcd8-40e0-ec04-aa30309363a7"
      },
      "execution_count": 89,
      "outputs": [
        {
          "output_type": "stream",
          "name": "stderr",
          "text": [
            "Repo card metadata block was not found. Setting CardData to empty.\n",
            "WARNING:huggingface_hub.repocard:Repo card metadata block was not found. Setting CardData to empty.\n",
            "textattack: Loading \u001b[94mdatasets\u001b[0m dataset \u001b[94mSetFit/enron_spam\u001b[0m, split \u001b[94mtrain\u001b[0m.\n"
          ]
        }
      ]
    },
    {
      "cell_type": "code",
      "source": [
        "target_class = 0  # Adjust based on your dataset and target\n",
        "goal_function = TargetedClassification(model_wrapper, target_class)\n",
        "transformation = WordSwapEmbedding()\n",
        "constraints = [UniversalSentenceEncoder(threshold=0.7)]\n",
        "search_method = GreedyWordSwapWIR()\n",
        "attack = Attack(goal_function, constraints, transformation, search_method)"
      ],
      "metadata": {
        "colab": {
          "base_uri": "https://localhost:8080/"
        },
        "id": "mKL4XgY_nHYa",
        "outputId": "b6e8d92b-3b3f-43ab-b732-7fef83af8a7c"
      },
      "execution_count": 90,
      "outputs": [
        {
          "output_type": "stream",
          "name": "stderr",
          "text": [
            "textattack: Unknown if model of class <class 'transformers.models.roberta.modeling_roberta.RobertaForSequenceClassification'> compatible with goal function <class 'textattack.goal_functions.classification.targeted_classification.TargetedClassification'>.\n"
          ]
        }
      ]
    },
    {
      "cell_type": "code",
      "source": [
        "attacker = Attacker(attack, dataset)\n",
        "attacker.attack_dataset()"
      ],
      "metadata": {
        "colab": {
          "base_uri": "https://localhost:8080/"
        },
        "id": "oUzzUNI6nby1",
        "outputId": "29f92e94-815c-41f0-cc98-1ecf315c4247"
      },
      "execution_count": 91,
      "outputs": [
        {
          "output_type": "stream",
          "name": "stdout",
          "text": [
            "Attack(\n",
            "  (search_method): GreedyWordSwapWIR(\n",
            "    (wir_method):  unk\n",
            "  )\n",
            "  (goal_function):  TargetedClassification(\n",
            "    (target_class):  0\n",
            "  )\n",
            "  (transformation):  WordSwapEmbedding(\n",
            "    (max_candidates):  15\n",
            "    (embedding):  WordEmbedding\n",
            "  )\n",
            "  (constraints): \n",
            "    (0): UniversalSentenceEncoder(\n",
            "        (metric):  angular\n",
            "        (threshold):  0.7\n",
            "        (window_size):  inf\n",
            "        (skip_text_shorter_than_window):  False\n",
            "        (compare_against_original):  True\n",
            "      )\n",
            "  (is_black_box):  True\n",
            ") \n",
            "\n"
          ]
        },
        {
          "output_type": "stream",
          "name": "stderr",
          "text": [
            "[Succeeded / Failed / Skipped / Total] 1 / 0 / 1 / 2:  20%|██        | 2/10 [00:04<00:18,  2.32s/it]"
          ]
        },
        {
          "output_type": "stream",
          "name": "stdout",
          "text": [
            "--------------------------------------------- Result 1 ---------------------------------------------\n",
            "[[1 (100%)]] --> [[0 (77%)]]\n",
            "\n",
            "understanding oem [[software]]\n",
            "lead me not into [[temptation]] ; i can find the way myself .\n",
            "# 3533 . the law disregards [[trifles]] .\n",
            "\n",
            "understanding oem [[agendas]]\n",
            "lead me not into [[luring]] ; i can find the way myself .\n",
            "# 3533 . the law disregards [[prattle]] .\n",
            "\n",
            "\n",
            "--------------------------------------------- Result 2 ---------------------------------------------\n",
            "[[0 (100%)]] --> [[[SKIPPED]]]\n",
            "\n",
            "19 th , 2 : 00 pm edt\n",
            "perspective on ferc regulatory action client conference call\n",
            "today , tuesday , june 19 th\n",
            "2 : 00 pm edt\n",
            "host : ray niles , power / natural gas analyst\n",
            "speaker : steve bergstrom , president & coo of dynegy\n",
            "steve bergstrom , president and chief operating officer of dynegy , will join\n",
            "us at 2 : 00 p . m . today for a conference call discussion of the recent ferc\n",
            "action imposing price controls in the west . the discussion will be followed\n",
            "by q & a .\n",
            "questions to be explored include :\n",
            "what are the implications of the ferc action , for dyn and the industry as a\n",
            "whole ?\n",
            "what is the earnings impact ?\n",
            "what are the risks of further re - regulation ?\n",
            "and whatever else is on your minds\n",
            "we attach two recent notes on the ferc action for your reference .\n",
            "call in replay reservation\n",
            "800 - 229 - 0281 us 800 - 642 - 1687 us 1073259\n",
            "706 - 645 - 9237 int ' l 706 - 645 - 9291 int ' l\n",
            "replay until 6 / 22 , 11 : 59 pm\n",
            "raymond c . niles\n",
            "power / natural gas research\n",
            "salomon smith barney\n",
            "( 212 ) 816 - 2807\n",
            "ray . niles @ ssmb . com\n",
            "s\n",
            "\n",
            "\n"
          ]
        },
        {
          "output_type": "stream",
          "name": "stderr",
          "text": [
            "[Succeeded / Failed / Skipped / Total] 1 / 1 / 2 / 4:  40%|████      | 4/10 [00:06<00:09,  1.67s/it]"
          ]
        },
        {
          "output_type": "stream",
          "name": "stdout",
          "text": [
            "--------------------------------------------- Result 3 ---------------------------------------------\n",
            "[[1 (100%)]] --> [[[FAILED]]]\n",
            "\n",
            "viagra at $ 1 . 12 per dose\n",
            "ready to boost your sex life ? positive ?\n",
            "time to do it right now . order viagra at incredibly low prices\n",
            "$ 1 . 12 per dose . unbelivable\n",
            "remove\n",
            "\n",
            "\n",
            "\n",
            "--------------------------------------------- Result 4 ---------------------------------------------\n",
            "[[0 (100%)]] --> [[[SKIPPED]]]\n",
            "\n",
            "teco tap 30 . 000 / enron ; 120 . 000 / hpl gas daily\n",
            "ls hpl lsk ic 30 . 000 / enron\n",
            "\n",
            "\n"
          ]
        },
        {
          "output_type": "stream",
          "name": "stderr",
          "text": [
            "[Succeeded / Failed / Skipped / Total] 2 / 1 / 2 / 5:  50%|█████     | 5/10 [00:07<00:07,  1.59s/it]"
          ]
        },
        {
          "output_type": "stream",
          "name": "stdout",
          "text": [
            "--------------------------------------------- Result 5 ---------------------------------------------\n",
            "[[1 (100%)]] --> [[0 (72%)]]\n",
            "\n",
            "[[water]] past also , [[burn]] , course . gave [[country]] , [[mass]] lot . [[act]] [[north]]\n",
            "good . from , [[learn]] [[form]] most [[brother]] vary . when more for . up\n",
            "stick , [[century]] put , song be . test , describe , plain , against [[wood]]\n",
            "star . began dress ever group . here oh , most world stay .\n",
            "\n",
            "\n",
            "[[vee]] past also , [[burning]] , course . gave [[sate]] , [[misa]] lot . [[legislation]] [[northern]]\n",
            "good . from , [[lessons]] [[forming]] most [[siblings]] vary . when more for . up\n",
            "stick , [[xvi]] put , song be . test , describe , plain , against [[timmer]]\n",
            "star . began dress ever group . here oh , most world stay .\n",
            "\n",
            "\n",
            "\n"
          ]
        },
        {
          "output_type": "stream",
          "name": "stderr",
          "text": [
            "[Succeeded / Failed / Skipped / Total] 3 / 1 / 2 / 6:  60%|██████    | 6/10 [02:37<01:44, 26.18s/it]"
          ]
        },
        {
          "output_type": "stream",
          "name": "stdout",
          "text": [
            "--------------------------------------------- Result 6 ---------------------------------------------\n",
            "[[1 (100%)]] --> [[0 (79%)]]\n",
            "\n",
            "[[vera]] ,\n",
            "vcsc - [[brand]] new [[stock]] for [[your]] [[attention]]\n",
            "vocalscape inc - the stock symbo | is : vcsc\n",
            "breaking news released by the company on friday after the ciose - watch out the stock go crazy next week .\n",
            "current price : $ 0 . 175\n",
            "projected speculative price in next 5 days : $ 0 . 42\n",
            "projected specuiative price in next 15 days : $ 0 . 55\n",
            "vocalscape networks inc . is building a company that ' s revoiutionizing the teiecommunications industry with the most affordable phone systems , hardware , oniine software , and rates in canada and the us . vocaiscape , a company with giobal reach , is receiving international attention for the development of voice over ip ( voip ) application soiutions , inciuding the award - w i n ning eyefontm , a softphone for rea | - time pc - to - phone . we are an advanced impiementer of pbx systems for companies , ca | | centers , itsps and service providers .\n",
            "vocalscape has created software and interactive soiutions revoiving around giobal communications and data voice convergence . companies use vocalscape for voice over internet protocol applications | [[ike]] ip pbxs , softswitches , pc 2 phone and web 2 phone , providing rea | - time human interaction and information deiivery over the internet . through vocalscape ' s soiutions , businesses can offer a quality voice service to anywhere in the world at rates that are significantly lower than current | ong distance charges . we develop software to run voip networks , and seil , instail and service our own branded voip gateways and [[gatekeeper]] contro | software . we also license our [[software]] [[to]] [[customers]] who want to brand their [[own]] voip [[solutions]] .\n",
            "vocaiscape [[is]] committed to [[making]] [[great]] technoiogy ; chalienging the [[status]] [[quo]] , and buiiding [[a]] 21 st [[century]] [[company]] that changes [[the]] [[way]] businesses [[communicate]] [[and]] [[interact]] [[through]] the [[internet]] .\n",
            "[[current]] [[price]] : $ [[o]] . 175\n",
            "[[projected]] [[speculative]] [[price]] in next 5 days : $ 0 . 42\n",
            "projected specuiative [[price]] in next 15 days : $ [[o]] . 55\n",
            "check out the [[breaking]] [[news]] [[for]] vcsc at finance . yahoo . com\n",
            "read the [[legal]] [[notes]] [[before]] [[you]] [[do]] [[anything]] eise :\n",
            "[[information]] [[within]] this [[email]] contains \" forward looking [[statements]] \" [[within]] the meaning of section 27 a of the securities act of 1933 and section 21 b of the securities exchange act of 1934 . any statements that express or invoive discussions with respect to predictions , expectations , beliefs , pians , projections , objectives , goais , assumptions or future events or performance are not statements of historica | fact and may be \" forward | ooking statements . \" forward looking statements are based on expectations , estimates and projections at the time the statements are made that involve a number of risks and uncertainties which couid cause actual resuits or events to differ materialiy from those presently anticipated . forward looking statements in this action may be identified through the use of words such as \" projects \" , \" foresee \" , \" expects \" , \" wil | , \" \" anticipates , \" \" estimates , \" \" believes , \" \" understands \" or that by statements indicating certain actions \" may , \" \" could , \" or \" might \" occur . as with many microcap stocks , today ' s company has additional risk factors worth noting . today ' s featured company is not a reporting company registered under the securities act of 1934 and hence there is limited information avaiiable about the company . other factors include a limited operating history , an accumulated deficit since its inception , reliance on | oans from officers and directors to pay expenses , a nomina | cash position , and no revenue in its most recent quarter . it is not currently an operating company . the company has two smal | items in co | | ection against it . the company is going to need financing . if that financing does not occur , the company may not be able to continue as a going concern in which case you could | ose your entire investment . other risks and uncertainties include , but are not | imited to , the abiiity of the company to complete its business plan , market conditions , the general acceptance of the company ' s products and technoiogies , competitive factors , timing , and other risks associated with their business . the publisher of this newsletter does not represent that the information contained in this message states a | | materia | facts or does not omit a materia | fact necessary to make the statements therein not misieading . all information provided within this email pertaining to investing , stocks , securities must be understood as information provided and not investment advice . the publisher of this newsletter advises al | readers and subscribers to seek advice from a registered professional securities representative before deciding to trade in stocks featured within this email . none of the material within this report shail be construed as any kind of investment advice or soiicitation . many of these companies are on the verge of bankruptcy . you can | ose all your money by investing in this stock . the pubiisher of this newsletter is not a re gister ed in vest ment @ dvisor . subscribers should not view information herein as legal , tax , accounting or investment advice . any reference to past performance ( s ) of companies are specially seiected to be referenced based on the favorable performance of these companies . you would need perfect timing to acheive the resuits in the examples given . there can be no assurance of that happening . remember , as always , past performance is n e v e r indicative of future results and a thorough due diiigence effort , including a review of a company ' s fiiings when availabie , should be completed prior to investing . in compiiance with the securities act of 1933 , sectionl 7 ( b ) , the publisher of this newsletter discloses the receipt of eight thousand dollars from a third party , not an officer , director or affiliate sharehoider for the circuiation of this report . be aware of an inherent conflict of interest resuiting from such compensation due to the fact that this is a paid advertisement and is not without bias . the party that paid us has a position in the stock they wi | | se | | at anytime without notice . this couid have a negative impact on the price of the stock . ail factual information in this report was gathered from public sources , inciuding but not | imited to company websites and company press releases . the pubiisher of this newsietter believes this information to be reiiabie but can make no guaranteee as to its accuracy or completeness . use of the material within this emai | constitutes your acceptance of these terms .\n",
            "if you wish to stop future maiiings , or if you feel you have been wrongfu | | y placed in our l i s t , piease go here ( - aol 978987 sdfuoisduf . com / optl / rm . html - )\n",
            "\n",
            "[[velma]] ,\n",
            "vcsc - [[marks]] new [[exchanges]] for [[tuna]] [[focuses]]\n",
            "vocalscape inc - the stock symbo | is : vcsc\n",
            "breaking news released by the company on friday after the ciose - watch out the stock go crazy next week .\n",
            "current price : $ 0 . 175\n",
            "projected speculative price in next 5 days : $ 0 . 42\n",
            "projected specuiative price in next 15 days : $ 0 . 55\n",
            "vocalscape networks inc . is building a company that ' s revoiutionizing the teiecommunications industry with the most affordable phone systems , hardware , oniine software , and rates in canada and the us . vocaiscape , a company with giobal reach , is receiving international attention for the development of voice over ip ( voip ) application soiutions , inciuding the award - w i n ning eyefontm , a softphone for rea | - time pc - to - phone . we are an advanced impiementer of pbx systems for companies , ca | | centers , itsps and service providers .\n",
            "vocalscape has created software and interactive soiutions revoiving around giobal communications and data voice convergence . companies use vocalscape for voice over internet protocol applications | [[marlon]] ip pbxs , softswitches , pc 2 phone and web 2 phone , providing rea | - time human interaction and information deiivery over the internet . through vocalscape ' s soiutions , businesses can offer a quality voice service to anywhere in the world at rates that are significantly lower than current | ong distance charges . we develop software to run voip networks , and seil , instail and service our own branded voip gateways and [[custodian]] contro | software . we also license our [[agendas]] [[toward]] [[guests]] who want to brand their [[particular]] voip [[alternates]] .\n",
            "vocaiscape [[represents]] committed to [[formulating]] [[marvellous]] technoiogy ; chalienging the [[provisions]] [[current]] , and buiiding [[the]] 21 st [[nineteen]] [[corporate]] that changes [[to]] [[routing]] businesses [[communicated]] [[ja]] [[interactions]] [[at]] the [[networks]] .\n",
            "[[existing]] [[fares]] : $ [[or]] . 175\n",
            "[[predict]] [[assumptions]] [[prix]] in next 5 days : $ 0 . 42\n",
            "projected specuiative [[pricing]] in next 15 days : $ [[either]] . 55\n",
            "check out the [[rupture]] [[columnist]] [[to]] vcsc at finance . yahoo . com\n",
            "read the [[statutory]] [[memos]] [[preceding]] [[vous]] [[did]] [[any]] eise :\n",
            "[[details]] [[inland]] this [[messaging]] contains \" forward looking [[announcements]] \" [[inland]] the meaning of section 27 a of the securities act of 1933 and section 21 b of the securities exchange act of 1934 . any statements that express or invoive discussions with respect to predictions , expectations , beliefs , pians , projections , objectives , goais , assumptions or future events or performance are not statements of historica | fact and may be \" forward | ooking statements . \" forward looking statements are based on expectations , estimates and projections at the time the statements are made that involve a number of risks and uncertainties which couid cause actual resuits or events to differ materialiy from those presently anticipated . forward looking statements in this action may be identified through the use of words such as \" projects \" , \" foresee \" , \" expects \" , \" wil | , \" \" anticipates , \" \" estimates , \" \" believes , \" \" understands \" or that by statements indicating certain actions \" may , \" \" could , \" or \" might \" occur . as with many microcap stocks , today ' s company has additional risk factors worth noting . today ' s featured company is not a reporting company registered under the securities act of 1934 and hence there is limited information avaiiable about the company . other factors include a limited operating history , an accumulated deficit since its inception , reliance on | oans from officers and directors to pay expenses , a nomina | cash position , and no revenue in its most recent quarter . it is not currently an operating company . the company has two smal | items in co | | ection against it . the company is going to need financing . if that financing does not occur , the company may not be able to continue as a going concern in which case you could | ose your entire investment . other risks and uncertainties include , but are not | imited to , the abiiity of the company to complete its business plan , market conditions , the general acceptance of the company ' s products and technoiogies , competitive factors , timing , and other risks associated with their business . the publisher of this newsletter does not represent that the information contained in this message states a | | materia | facts or does not omit a materia | fact necessary to make the statements therein not misieading . all information provided within this email pertaining to investing , stocks , securities must be understood as information provided and not investment advice . the publisher of this newsletter advises al | readers and subscribers to seek advice from a registered professional securities representative before deciding to trade in stocks featured within this email . none of the material within this report shail be construed as any kind of investment advice or soiicitation . many of these companies are on the verge of bankruptcy . you can | ose all your money by investing in this stock . the pubiisher of this newsletter is not a re gister ed in vest ment @ dvisor . subscribers should not view information herein as legal , tax , accounting or investment advice . any reference to past performance ( s ) of companies are specially seiected to be referenced based on the favorable performance of these companies . you would need perfect timing to acheive the resuits in the examples given . there can be no assurance of that happening . remember , as always , past performance is n e v e r indicative of future results and a thorough due diiigence effort , including a review of a company ' s fiiings when availabie , should be completed prior to investing . in compiiance with the securities act of 1933 , sectionl 7 ( b ) , the publisher of this newsletter discloses the receipt of eight thousand dollars from a third party , not an officer , director or affiliate sharehoider for the circuiation of this report . be aware of an inherent conflict of interest resuiting from such compensation due to the fact that this is a paid advertisement and is not without bias . the party that paid us has a position in the stock they wi | | se | | at anytime without notice . this couid have a negative impact on the price of the stock . ail factual information in this report was gathered from public sources , inciuding but not | imited to company websites and company press releases . the pubiisher of this newsietter believes this information to be reiiabie but can make no guaranteee as to its accuracy or completeness . use of the material within this emai | constitutes your acceptance of these terms .\n",
            "if you wish to stop future maiiings , or if you feel you have been wrongfu | | y placed in our l i s t , piease go here ( - aol 978987 sdfuoisduf . com / optl / rm . html - )\n",
            "\n",
            "\n"
          ]
        },
        {
          "output_type": "stream",
          "name": "stderr",
          "text": [
            "[Succeeded / Failed / Skipped / Total] 4 / 1 / 2 / 7:  70%|███████   | 7/10 [02:37<01:07, 22.56s/it]"
          ]
        },
        {
          "output_type": "stream",
          "name": "stdout",
          "text": [
            "--------------------------------------------- Result 7 ---------------------------------------------\n",
            "[[1 (100%)]] --> [[0 (74%)]]\n",
            "\n",
            "i noticed that you have visited [[illegal]] [[websites]] .\n",
            "see the name [[in]] the list !\n",
            "+ + + + attachment : [[no]] [[virus]] [[found]]\n",
            "+ + + + [[norman]] [[antivirus]] - www . norman . com\n",
            "\n",
            "\n",
            "i noticed that you have visited [[undocumented]] [[locations]] .\n",
            "see the name [[for]] the list !\n",
            "+ + + + attachment : [[nor]] [[measles]] [[spotted]]\n",
            "+ + + + [[jill]] [[firewall]] - www . norman . com\n",
            "\n",
            "\n",
            "\n"
          ]
        },
        {
          "output_type": "stream",
          "name": "stderr",
          "text": [
            "[Succeeded / Failed / Skipped / Total] 5 / 1 / 3 / 9:  90%|█████████ | 9/10 [02:49<00:18, 18.88s/it]"
          ]
        },
        {
          "output_type": "stream",
          "name": "stdout",
          "text": [
            "--------------------------------------------- Result 8 ---------------------------------------------\n",
            "[[1 (100%)]] --> [[0 (77%)]]\n",
            "\n",
            "to : avfs @ fazekas . [[hu]]\n",
            "attn : [[marketing]] department\n",
            "from : i . q . software - [[bucharest]]\n",
            "ref . : romanian software production & [[export]]\n",
            "[[our]] [[anti]] - spamming company policy :\n",
            "never bother you again\n",
            "to remove your e - mail address from the present\n",
            "contact list just do not reply to this message .\n",
            "if you receive this message by mistake and / or you are not interested\n",
            "in the following brief presentation , please accept our apologies .\n",
            "this is a world - wide promotion campaign . the selected e - mail addresses\n",
            "are extracted only from the commercial websites of the targeted markets .\n",
            "we would like to offer you for consideration our brief presentation .\n",
            "we are looking for a marketplace in your country .\n",
            "to communicate with us please reply using\n",
            "the plain text format in the body of the message\n",
            "> > > mentioning your specific inquiry / offering demand > > company name , address , phone\n",
            "- man - power ;\n",
            "- data - entry ;\n",
            "- mapdrawing ;\n",
            "- outsourcing .\n",
            "* so that you would be able to have an idea of our skills\n",
            "we present you some of our current projects :\n",
            "the situs system ( informative of tribunals bureaus of supervision )\n",
            "was realized for informative administration of activities typical\n",
            "for tribunals and bureaus of supervision for ministry of justice - italy\n",
            "( [[microsoft]] visual basic 6 . 0 , database : oracle 8 . 0 ) .\n",
            "the ice system foresaw the resigtering of the italian - romanian companies\n",
            "on romanian territory . the application is constituted by a browser which\n",
            "allows the navigation and provides some additional skills , [[advanced]] search\n",
            "on varied criterious which are created in a dynamic way by the user\n",
            "( visualbasic 6 . 0 , database : access 97 ) .\n",
            "[[museum]] - the main request from the museum was to handle ( multimedia )\n",
            "documents in specific formats on different operating system and platforms\n",
            "( c + + , html , corba idl , orb : orbacus ) .\n",
            "library ( national library of firenze ) - informatical system for managing\n",
            "and labeling the [[ancient]] bibliographical materials\n",
            "( power builder , database : oracle ) .\n",
            "interflora - communication and management system ; consists in some\n",
            "applications and services which allows the communication between\n",
            "the flowerist man from italy and international association of flowerists\n",
            "( visual basic 6 . 0 ) .\n",
            "audit office - the realization of a porting which foresaw 16 bit controls\n",
            "for substitution with 32 bit controls , introduction of new activex controls ,\n",
            "substitution of formula 1 with native controls of visual basic 6 . 0 .\n",
            "unico - the program foresaw the possibility of acquisition from images\n",
            "of more than 60 models of unico and iva\n",
            "( fiscal declarations ) - ( delphi 4 . 0 . database : sql ) .\n",
            "ministry of finance - fiscal documentation - the objective is\n",
            "the easy access to the italian legislation and its consulting .\n",
            "the application based on a client / server architecture , using a network\n",
            "communication ( sockets ) for data exchange with the server ( visual c + + ) .\n",
            "foreign ministry - economical application -\n",
            "this application is conceived as a group of projects .\n",
            "administration\n",
            "balance - sheets\n",
            "dispositions of payment\n",
            "foreign expenses\n",
            "synthetically dates\n",
            "servers\n",
            "( visual basic 6 . 0 , database : sql server 7 . 0 )\n",
            "sogei - the administration of the custom houses .\n",
            "this application is created for the financial administration of the\n",
            "peripherical offices at the customhouse ( java , html , database : oracle 8 . 0 ) .\n",
            "iccrea - application of processing development of the\n",
            "bank - procedures on mainframe ( cobol / cics / db 2 ) .\n",
            "telecom - microfilm data acquisition .\n",
            "registering numbers and subscribers .\n",
            "anagrafica - acquisition from images of dates and personal information .\n",
            "italian ministry of finance - data acquisition\n",
            "from images of medical prescription .\n",
            "iq register - acquisition of information from images\n",
            "and optics archives of documentation .\n",
            "* we had been offering for the entire veneto region ,\n",
            "the following professional system engineers :\n",
            "ambiente bull gcos 8 : systematical and special assistance\n",
            "in interel rfm , sql , infoedge .\n",
            "ambiente bull / reti : systematical and special assistance\n",
            "of regional networks for datanet , l . a . n . , x . 25 ,\n",
            "dsa , mainway transmission , telematical networks .\n",
            "ambiente unix : 2 unix system operators with knowledge of gcos 6 .\n",
            "* we have been offering for the meteorology institute of padova\n",
            "the following professional system engineers :\n",
            "ambiente digital / unix : systematical and special assistance\n",
            "for dec vax / vms and unix systems with strong enough knowledge\n",
            "of informix and c programming .\n",
            "ambiente / decnet / windows : systematical and special assistance\n",
            "for dec vax / vms and windows with knowledge in financial administration\n",
            "of local networks , in financial administration and configuration of\n",
            "communication systems ( router , bridge , gateway , etc ) and of products\n",
            "of exchange data , in financial administration and configuration of\n",
            "interface systems of internet .\n",
            "therefore , to increase our presence to the international\n",
            "market we took part in the inter - governmental program\n",
            "between the united states and romania .\n",
            "thus , we participated to the international meeting of both\n",
            "romanian and american it companies on lst november 2001 due\n",
            "to the kind initiative of both governments .\n",
            "the reason of this program , of the meeting mentioned above and of the\n",
            "initiatives that followed was to offer a new way for outsourcing ,\n",
            "more convenient than the indian one to american software companies .\n",
            "our company , already present on american market , is interested to be\n",
            "a potential partner and one of most interested in cooperating with\n",
            "american it companies .\n",
            "our main interest is both on the american and european market .\n",
            "our managing staff after visiting italy managed to establish relations\n",
            "with this country for our curent projects .\n",
            "on the other side a marketing tour has already been established\n",
            "in the usa in the month of may for any possible projects .\n",
            "that is why we might be able to directly discuss with you any new project .\n",
            "we ' d appreciate your feed - back containing detailed contact coordinates :\n",
            "company name , address , phone and fax numbers , contact person , web - site .\n",
            "our area of interest : software production export\n",
            "we wish to express our availability to work under the client ' s brand .\n",
            "please don ' t hesitate to send us your specific inquiry / offering demand .\n",
            "we ' ll be happy to provide you the lowest prices in the field .\n",
            "thanking you for your time and looking forward to your reply ,\n",
            "we wish you all the best .\n",
            "i . q . software staff\n",
            "avfs mailing list\n",
            "avfs @ csibe . fazekas . hu\n",
            "\n",
            "\n",
            "to : avfs @ fazekas . [[wook]]\n",
            "attn : [[trading]] department\n",
            "from : i . q . software - [[krakow]]\n",
            "ref . : romanian software production & [[exiting]]\n",
            "[[ons]] [[versus]] - spamming company policy :\n",
            "never bother you again\n",
            "to remove your e - mail address from the present\n",
            "contact list just do not reply to this message .\n",
            "if you receive this message by mistake and / or you are not interested\n",
            "in the following brief presentation , please accept our apologies .\n",
            "this is a world - wide promotion campaign . the selected e - mail addresses\n",
            "are extracted only from the commercial websites of the targeted markets .\n",
            "we would like to offer you for consideration our brief presentation .\n",
            "we are looking for a marketplace in your country .\n",
            "to communicate with us please reply using\n",
            "the plain text format in the body of the message\n",
            "> > > mentioning your specific inquiry / offering demand > > company name , address , phone\n",
            "- man - power ;\n",
            "- data - entry ;\n",
            "- mapdrawing ;\n",
            "- outsourcing .\n",
            "* so that you would be able to have an idea of our skills\n",
            "we present you some of our current projects :\n",
            "the situs system ( informative of tribunals bureaus of supervision )\n",
            "was realized for informative administration of activities typical\n",
            "for tribunals and bureaus of supervision for ministry of justice - italy\n",
            "( [[blackberry]] visual basic 6 . 0 , database : oracle 8 . 0 ) .\n",
            "the ice system foresaw the resigtering of the italian - romanian companies\n",
            "on romanian territory . the application is constituted by a browser which\n",
            "allows the navigation and provides some additional skills , [[headway]] search\n",
            "on varied criterious which are created in a dynamic way by the user\n",
            "( visualbasic 6 . 0 , database : access 97 ) .\n",
            "[[louvre]] - the main request from the museum was to handle ( multimedia )\n",
            "documents in specific formats on different operating system and platforms\n",
            "( c + + , html , corba idl , orb : orbacus ) .\n",
            "library ( national library of firenze ) - informatical system for managing\n",
            "and labeling the [[longtime]] bibliographical materials\n",
            "( power builder , database : oracle ) .\n",
            "interflora - communication and management system ; consists in some\n",
            "applications and services which allows the communication between\n",
            "the flowerist man from italy and international association of flowerists\n",
            "( visual basic 6 . 0 ) .\n",
            "audit office - the realization of a porting which foresaw 16 bit controls\n",
            "for substitution with 32 bit controls , introduction of new activex controls ,\n",
            "substitution of formula 1 with native controls of visual basic 6 . 0 .\n",
            "unico - the program foresaw the possibility of acquisition from images\n",
            "of more than 60 models of unico and iva\n",
            "( fiscal declarations ) - ( delphi 4 . 0 . database : sql ) .\n",
            "ministry of finance - fiscal documentation - the objective is\n",
            "the easy access to the italian legislation and its consulting .\n",
            "the application based on a client / server architecture , using a network\n",
            "communication ( sockets ) for data exchange with the server ( visual c + + ) .\n",
            "foreign ministry - economical application -\n",
            "this application is conceived as a group of projects .\n",
            "administration\n",
            "balance - sheets\n",
            "dispositions of payment\n",
            "foreign expenses\n",
            "synthetically dates\n",
            "servers\n",
            "( visual basic 6 . 0 , database : sql server 7 . 0 )\n",
            "sogei - the administration of the custom houses .\n",
            "this application is created for the financial administration of the\n",
            "peripherical offices at the customhouse ( java , html , database : oracle 8 . 0 ) .\n",
            "iccrea - application of processing development of the\n",
            "bank - procedures on mainframe ( cobol / cics / db 2 ) .\n",
            "telecom - microfilm data acquisition .\n",
            "registering numbers and subscribers .\n",
            "anagrafica - acquisition from images of dates and personal information .\n",
            "italian ministry of finance - data acquisition\n",
            "from images of medical prescription .\n",
            "iq register - acquisition of information from images\n",
            "and optics archives of documentation .\n",
            "* we had been offering for the entire veneto region ,\n",
            "the following professional system engineers :\n",
            "ambiente bull gcos 8 : systematical and special assistance\n",
            "in interel rfm , sql , infoedge .\n",
            "ambiente bull / reti : systematical and special assistance\n",
            "of regional networks for datanet , l . a . n . , x . 25 ,\n",
            "dsa , mainway transmission , telematical networks .\n",
            "ambiente unix : 2 unix system operators with knowledge of gcos 6 .\n",
            "* we have been offering for the meteorology institute of padova\n",
            "the following professional system engineers :\n",
            "ambiente digital / unix : systematical and special assistance\n",
            "for dec vax / vms and unix systems with strong enough knowledge\n",
            "of informix and c programming .\n",
            "ambiente / decnet / windows : systematical and special assistance\n",
            "for dec vax / vms and windows with knowledge in financial administration\n",
            "of local networks , in financial administration and configuration of\n",
            "communication systems ( router , bridge , gateway , etc ) and of products\n",
            "of exchange data , in financial administration and configuration of\n",
            "interface systems of internet .\n",
            "therefore , to increase our presence to the international\n",
            "market we took part in the inter - governmental program\n",
            "between the united states and romania .\n",
            "thus , we participated to the international meeting of both\n",
            "romanian and american it companies on lst november 2001 due\n",
            "to the kind initiative of both governments .\n",
            "the reason of this program , of the meeting mentioned above and of the\n",
            "initiatives that followed was to offer a new way for outsourcing ,\n",
            "more convenient than the indian one to american software companies .\n",
            "our company , already present on american market , is interested to be\n",
            "a potential partner and one of most interested in cooperating with\n",
            "american it companies .\n",
            "our main interest is both on the american and european market .\n",
            "our managing staff after visiting italy managed to establish relations\n",
            "with this country for our curent projects .\n",
            "on the other side a marketing tour has already been established\n",
            "in the usa in the month of may for any possible projects .\n",
            "that is why we might be able to directly discuss with you any new project .\n",
            "we ' d appreciate your feed - back containing detailed contact coordinates :\n",
            "company name , address , phone and fax numbers , contact person , web - site .\n",
            "our area of interest : software production export\n",
            "we wish to express our availability to work under the client ' s brand .\n",
            "please don ' t hesitate to send us your specific inquiry / offering demand .\n",
            "we ' ll be happy to provide you the lowest prices in the field .\n",
            "thanking you for your time and looking forward to your reply ,\n",
            "we wish you all the best .\n",
            "i . q . software staff\n",
            "avfs mailing list\n",
            "avfs @ csibe . fazekas . hu\n",
            "\n",
            "\n",
            "\n",
            "--------------------------------------------- Result 9 ---------------------------------------------\n",
            "[[0 (100%)]] --> [[[SKIPPED]]]\n",
            "\n",
            "congratulations ! for an unprecedented five years in a row , enron has been\n",
            "ranked the \" most innovative company in america \" by fortune magazine . in\n",
            "addition , for the first time , enron has also been ranked # 1 in \" quality of\n",
            "management , \" topping general electric and omnicom group , and our \" employee\n",
            "talent \" has been ranked # 2 , behind goldman sachs and ahead of cisco\n",
            "systems . america ' s most admired management team is paired with the best and\n",
            "brightest employee talent . that winning combination has led to enron ' s\n",
            "five - year \" most innovative \" sweep . the \" most admired \" list will appear in\n",
            "fortune ' s feb . 21 issue , available on newsstands feb . 8 .\n",
            "you are the reason we have achieved such consistent recognition . you bring\n",
            "the innovative ideas to enron and create new business opportunities . you\n",
            "contribute to our quality management team . and you are the outstanding\n",
            "employee talent that makes enron such an exciting and successful company .\n",
            "keep up your outstanding work , and we look forward to even greater\n",
            "achievements in 2000 !\n",
            "\n",
            "\n"
          ]
        },
        {
          "output_type": "stream",
          "name": "stderr",
          "text": [
            "[Succeeded / Failed / Skipped / Total] 6 / 1 / 3 / 10: 100%|██████████| 10/10 [02:55<00:00, 17.56s/it]"
          ]
        },
        {
          "output_type": "stream",
          "name": "stdout",
          "text": [
            "--------------------------------------------- Result 10 ---------------------------------------------\n",
            "[[1 (100%)]] --> [[0 (71%)]]\n",
            "\n",
            "[[hello]] , [[we]] would [[like]] to offer localized [[software]] versions ( qerman , french , [[spanish]] , [[uk]] , [[and]] [[many]] [[others]] ) .\n",
            "ail iisted [[software]] [[is]] availabie [[for]] [[immediate]] downioad !\n",
            "[[no]] [[need]] [[to]] [[wait]] 2 - 3 [[week]] [[for]] [[cd]] deiivery !\n",
            "[[just]] [[few]] [[examples]] :\n",
            "- [[norton]] [[lnternet]] [[security]] [[pro]] 2005 - $ 29 . 95\n",
            "- [[windows]] [[xp]] [[professional]] [[with]] [[sp]] 2 fuii [[version]] - $ 59 . 95\n",
            "- corel [[draw]] graphics suite 12 - $ 49 . 95\n",
            "- dreamweaver [[mx]] 2004 ( homesite 5 . 5 inciuding ) - $ 39 . 95\n",
            "- macromedia [[studio]] [[mx]] 2004 - $ 119 . 95\n",
            "just [[browse]] [[our]] [[site]] [[and]] [[find]] [[any]] [[software]] [[you]] need [[in]] [[your]] [[native]] [[language]] !\n",
            "best regards ,\n",
            "[[ava]]\n",
            "\n",
            "\n",
            "[[hey]] , [[there]] would [[comparable]] to offer localized [[agendas]] versions ( qerman , french , [[hispanic]] , [[london]] , [[so]] [[assorted]] [[additional]] ) .\n",
            "ail iisted [[agendas]] [[represents]] availabie [[de]] [[imminent]] downioad !\n",
            "[[nah]] [[requirement]] [[the]] [[expects]] 2 - 3 [[cabbage]] [[toward]] [[dc]] deiivery !\n",
            "[[len]] [[slightly]] [[occurrences]] :\n",
            "- [[stanton]] [[webb]] [[certainty]] [[occupations]] 2005 - $ 29 . 95\n",
            "- [[window]] [[windows]] [[occupations]] [[at]] [[dw]] 2 fuii [[texts]] - $ 59 . 95\n",
            "- corel [[pulled]] graphics suite 12 - $ 49 . 95\n",
            "- dreamweaver [[kart]] 2004 ( homesite 5 . 5 inciuding ) - $ 39 . 95\n",
            "- macromedia [[seminar]] [[kart]] 2004 - $ 119 . 95\n",
            "just [[examining]] [[we]] [[locations]] [[accordingly]] [[locate]] [[anything]] [[agendas]] [[pense]] need [[toward]] [[tonne]] [[original]] [[dictionary]] !\n",
            "best regards ,\n",
            "[[gianna]]\n",
            "\n",
            "\n",
            "\n",
            "\n",
            "+-------------------------------+---------+\n",
            "| Attack Results                |         |\n",
            "+-------------------------------+---------+\n",
            "| Number of successful attacks: | 6       |\n",
            "| Number of failed attacks:     | 1       |\n",
            "| Number of skipped attacks:    | 3       |\n",
            "| Original accuracy:            | 70.0%   |\n",
            "| Accuracy under attack:        | 10.0%   |\n",
            "| Attack success rate:          | 85.71%  |\n",
            "| Average perturbed word %:     | 22.71%  |\n",
            "| Average num. words per input: | 257.4   |\n",
            "| Avg num queries:              | 2076.86 |\n",
            "+-------------------------------+---------+\n"
          ]
        },
        {
          "output_type": "stream",
          "name": "stderr",
          "text": [
            "\n"
          ]
        },
        {
          "output_type": "execute_result",
          "data": {
            "text/plain": [
              "[<textattack.attack_results.successful_attack_result.SuccessfulAttackResult at 0x7fbd2db771c0>,\n",
              " <textattack.attack_results.skipped_attack_result.SkippedAttackResult at 0x7fbd2bb72710>,\n",
              " <textattack.attack_results.failed_attack_result.FailedAttackResult at 0x7fbca45396c0>,\n",
              " <textattack.attack_results.skipped_attack_result.SkippedAttackResult at 0x7fbd2ab73310>,\n",
              " <textattack.attack_results.successful_attack_result.SuccessfulAttackResult at 0x7fbd2db77160>,\n",
              " <textattack.attack_results.successful_attack_result.SuccessfulAttackResult at 0x7fbd2e306e60>,\n",
              " <textattack.attack_results.successful_attack_result.SuccessfulAttackResult at 0x7fbd2b7c5a80>,\n",
              " <textattack.attack_results.successful_attack_result.SuccessfulAttackResult at 0x7fbc39be4040>,\n",
              " <textattack.attack_results.skipped_attack_result.SkippedAttackResult at 0x7fbc39be4790>,\n",
              " <textattack.attack_results.successful_attack_result.SuccessfulAttackResult at 0x7fbca47ae680>]"
            ]
          },
          "metadata": {},
          "execution_count": 91
        }
      ]
    }
  ]
}