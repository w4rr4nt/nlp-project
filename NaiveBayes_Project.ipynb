{
  "nbformat": 4,
  "nbformat_minor": 0,
  "metadata": {
    "colab": {
      "provenance": [],
      "authorship_tag": "ABX9TyMBTC+42gAFd9PNXyLkuz3G",
      "include_colab_link": true
    },
    "kernelspec": {
      "name": "python3",
      "display_name": "Python 3"
    },
    "language_info": {
      "name": "python"
    }
  },
  "cells": [
    {
      "cell_type": "markdown",
      "metadata": {
        "id": "view-in-github",
        "colab_type": "text"
      },
      "source": [
        "<a href=\"https://colab.research.google.com/github/w4rr4nt/nlp-project/blob/main/NaiveBayes_Project.ipynb\" target=\"_parent\"><img src=\"https://colab.research.google.com/assets/colab-badge.svg\" alt=\"Open In Colab\"/></a>"
      ]
    },
    {
      "cell_type": "markdown",
      "source": [
        "### NLP Project: Email classification (Spam/Not Spam) using Naive Bayes and Roberta models"
      ],
      "metadata": {
        "id": "hTPUU6VzYbBi"
      }
    },
    {
      "cell_type": "markdown",
      "source": [
        "## Imports"
      ],
      "metadata": {
        "id": "WZVZr4giYkZQ"
      }
    },
    {
      "cell_type": "code",
      "execution_count": 34,
      "metadata": {
        "id": "NYxQ-lueYCQr"
      },
      "outputs": [],
      "source": [
        "import numpy as np\n",
        "import pandas as pd\n",
        "import matplotlib.pyplot as plt\n",
        "\n",
        "def warn(*args, **kwargs):\n",
        "    pass\n",
        "import warnings\n",
        "warnings.warn = warn\n",
        "\n",
        "from huggingface_hub import hf_hub_download\n",
        "from sklearn import metrics\n",
        "from sklearn.feature_extraction.text import TfidfVectorizer\n",
        "from sklearn.metrics import confusion_matrix, ConfusionMatrixDisplay\n",
        "from sklearn.model_selection import train_test_split\n",
        "from sklearn.naive_bayes import MultinomialNB\n",
        "\n",
        "from textattack.models.wrappers import SklearnModelWrapper\n",
        "from textattack.datasets import HuggingFaceDataset\n",
        "from textattack.attack_recipes import TextFoolerJin2019\n",
        "from textattack import Attacker\n",
        "from textattack import Attack\n",
        "from sklearn.feature_extraction.text import TfidfVectorizer\n",
        "from textattack.goal_functions import TargetedClassification\n",
        "from textattack.transformations import WordSwapEmbedding\n",
        "from textattack.constraints.semantics.sentence_encoders import UniversalSentenceEncoder\n",
        "from textattack.search_methods import GreedyWordSwapWIR"
      ]
    },
    {
      "cell_type": "markdown",
      "source": [
        "## Get Training Data"
      ],
      "metadata": {
        "id": "BobMtbJ0rhDH"
      }
    },
    {
      "cell_type": "code",
      "source": [
        "train_data = hf_hub_download(repo_id='SetFit/enron_spam', filename='train.jsonl', repo_type='dataset')"
      ],
      "metadata": {
        "id": "Td3TsYyzib6E",
        "colab": {
          "base_uri": "https://localhost:8080/"
        },
        "outputId": "c219d2c7-2c7d-44cc-cab3-09daa321ec1d"
      },
      "execution_count": 3,
      "outputs": [
        {
          "output_type": "stream",
          "name": "stderr",
          "text": [
            "/usr/local/lib/python3.10/dist-packages/huggingface_hub/utils/_token.py:89: UserWarning: \n",
            "The secret `HF_TOKEN` does not exist in your Colab secrets.\n",
            "To authenticate with the Hugging Face Hub, create a token in your settings tab (https://huggingface.co/settings/tokens), set it as secret in your Google Colab and restart your session.\n",
            "You will be able to reuse this secret in all of your notebooks.\n",
            "Please note that authentication is recommended but still optional to access public models or datasets.\n",
            "  warnings.warn(\n"
          ]
        }
      ]
    },
    {
      "cell_type": "code",
      "source": [
        "print(train_data)\n",
        "train_df = pd.read_json(train_data, lines=True)"
      ],
      "metadata": {
        "colab": {
          "base_uri": "https://localhost:8080/"
        },
        "id": "MVVDKTx_jAdX",
        "outputId": "df513700-a676-4f4c-b94f-e1a920d79798"
      },
      "execution_count": 4,
      "outputs": [
        {
          "output_type": "stream",
          "name": "stdout",
          "text": [
            "/root/.cache/huggingface/hub/datasets--SetFit--enron_spam/snapshots/1916f66c89d52221ae33eb57d44498b4f3a5df22/train.jsonl\n"
          ]
        }
      ]
    },
    {
      "cell_type": "code",
      "source": [
        "train_df.head(5)"
      ],
      "metadata": {
        "colab": {
          "base_uri": "https://localhost:8080/",
          "height": 293
        },
        "id": "seiMczq1vAif",
        "outputId": "a0e2f992-c90c-465f-86fb-e27ddde600f0"
      },
      "execution_count": 5,
      "outputs": [
        {
          "output_type": "execute_result",
          "data": {
            "text/plain": [
              "   message_id                                               text  label  \\\n",
              "0       33214  any software just for 15 $ - 99 $ understandin...      1   \n",
              "1       11929  perspective on ferc regulatory action client c...      0   \n",
              "2       19784  wanted to try ci 4 lis but thought it was way ...      1   \n",
              "3        2209  enron / hpl actuals for december 11 , 2000 tec...      0   \n",
              "4       15880  looking for cheap high - quality software ? ro...      1   \n",
              "\n",
              "  label_text                                            subject  \\\n",
              "0       spam                  any software just for 15 $ - 99 $   \n",
              "1        ham  perspective on ferc regulatory action client c...   \n",
              "2       spam  wanted to try ci 4 lis but thought it was way ...   \n",
              "3        ham         enron / hpl actuals for december 11 , 2000   \n",
              "4       spam  looking for cheap high - quality software ? ro...   \n",
              "\n",
              "                                             message       date  \n",
              "0  understanding oem software\\nlead me not into t... 2005-06-18  \n",
              "1  19 th , 2 : 00 pm edt\\nperspective on ferc reg... 2001-06-19  \n",
              "2  viagra at $ 1 . 12 per dose\\nready to boost yo... 2004-09-11  \n",
              "3  teco tap 30 . 000 / enron ; 120 . 000 / hpl ga... 2000-12-12  \n",
              "4  water past also , burn , course . gave country... 2005-02-13  "
            ],
            "text/html": [
              "\n",
              "  <div id=\"df-d14e92f1-4a4b-47b8-820b-a028051480fc\" class=\"colab-df-container\">\n",
              "    <div>\n",
              "<style scoped>\n",
              "    .dataframe tbody tr th:only-of-type {\n",
              "        vertical-align: middle;\n",
              "    }\n",
              "\n",
              "    .dataframe tbody tr th {\n",
              "        vertical-align: top;\n",
              "    }\n",
              "\n",
              "    .dataframe thead th {\n",
              "        text-align: right;\n",
              "    }\n",
              "</style>\n",
              "<table border=\"1\" class=\"dataframe\">\n",
              "  <thead>\n",
              "    <tr style=\"text-align: right;\">\n",
              "      <th></th>\n",
              "      <th>message_id</th>\n",
              "      <th>text</th>\n",
              "      <th>label</th>\n",
              "      <th>label_text</th>\n",
              "      <th>subject</th>\n",
              "      <th>message</th>\n",
              "      <th>date</th>\n",
              "    </tr>\n",
              "  </thead>\n",
              "  <tbody>\n",
              "    <tr>\n",
              "      <th>0</th>\n",
              "      <td>33214</td>\n",
              "      <td>any software just for 15 $ - 99 $ understandin...</td>\n",
              "      <td>1</td>\n",
              "      <td>spam</td>\n",
              "      <td>any software just for 15 $ - 99 $</td>\n",
              "      <td>understanding oem software\\nlead me not into t...</td>\n",
              "      <td>2005-06-18</td>\n",
              "    </tr>\n",
              "    <tr>\n",
              "      <th>1</th>\n",
              "      <td>11929</td>\n",
              "      <td>perspective on ferc regulatory action client c...</td>\n",
              "      <td>0</td>\n",
              "      <td>ham</td>\n",
              "      <td>perspective on ferc regulatory action client c...</td>\n",
              "      <td>19 th , 2 : 00 pm edt\\nperspective on ferc reg...</td>\n",
              "      <td>2001-06-19</td>\n",
              "    </tr>\n",
              "    <tr>\n",
              "      <th>2</th>\n",
              "      <td>19784</td>\n",
              "      <td>wanted to try ci 4 lis but thought it was way ...</td>\n",
              "      <td>1</td>\n",
              "      <td>spam</td>\n",
              "      <td>wanted to try ci 4 lis but thought it was way ...</td>\n",
              "      <td>viagra at $ 1 . 12 per dose\\nready to boost yo...</td>\n",
              "      <td>2004-09-11</td>\n",
              "    </tr>\n",
              "    <tr>\n",
              "      <th>3</th>\n",
              "      <td>2209</td>\n",
              "      <td>enron / hpl actuals for december 11 , 2000 tec...</td>\n",
              "      <td>0</td>\n",
              "      <td>ham</td>\n",
              "      <td>enron / hpl actuals for december 11 , 2000</td>\n",
              "      <td>teco tap 30 . 000 / enron ; 120 . 000 / hpl ga...</td>\n",
              "      <td>2000-12-12</td>\n",
              "    </tr>\n",
              "    <tr>\n",
              "      <th>4</th>\n",
              "      <td>15880</td>\n",
              "      <td>looking for cheap high - quality software ? ro...</td>\n",
              "      <td>1</td>\n",
              "      <td>spam</td>\n",
              "      <td>looking for cheap high - quality software ? ro...</td>\n",
              "      <td>water past also , burn , course . gave country...</td>\n",
              "      <td>2005-02-13</td>\n",
              "    </tr>\n",
              "  </tbody>\n",
              "</table>\n",
              "</div>\n",
              "    <div class=\"colab-df-buttons\">\n",
              "\n",
              "  <div class=\"colab-df-container\">\n",
              "    <button class=\"colab-df-convert\" onclick=\"convertToInteractive('df-d14e92f1-4a4b-47b8-820b-a028051480fc')\"\n",
              "            title=\"Convert this dataframe to an interactive table.\"\n",
              "            style=\"display:none;\">\n",
              "\n",
              "  <svg xmlns=\"http://www.w3.org/2000/svg\" height=\"24px\" viewBox=\"0 -960 960 960\">\n",
              "    <path d=\"M120-120v-720h720v720H120Zm60-500h600v-160H180v160Zm220 220h160v-160H400v160Zm0 220h160v-160H400v160ZM180-400h160v-160H180v160Zm440 0h160v-160H620v160ZM180-180h160v-160H180v160Zm440 0h160v-160H620v160Z\"/>\n",
              "  </svg>\n",
              "    </button>\n",
              "\n",
              "  <style>\n",
              "    .colab-df-container {\n",
              "      display:flex;\n",
              "      gap: 12px;\n",
              "    }\n",
              "\n",
              "    .colab-df-convert {\n",
              "      background-color: #E8F0FE;\n",
              "      border: none;\n",
              "      border-radius: 50%;\n",
              "      cursor: pointer;\n",
              "      display: none;\n",
              "      fill: #1967D2;\n",
              "      height: 32px;\n",
              "      padding: 0 0 0 0;\n",
              "      width: 32px;\n",
              "    }\n",
              "\n",
              "    .colab-df-convert:hover {\n",
              "      background-color: #E2EBFA;\n",
              "      box-shadow: 0px 1px 2px rgba(60, 64, 67, 0.3), 0px 1px 3px 1px rgba(60, 64, 67, 0.15);\n",
              "      fill: #174EA6;\n",
              "    }\n",
              "\n",
              "    .colab-df-buttons div {\n",
              "      margin-bottom: 4px;\n",
              "    }\n",
              "\n",
              "    [theme=dark] .colab-df-convert {\n",
              "      background-color: #3B4455;\n",
              "      fill: #D2E3FC;\n",
              "    }\n",
              "\n",
              "    [theme=dark] .colab-df-convert:hover {\n",
              "      background-color: #434B5C;\n",
              "      box-shadow: 0px 1px 3px 1px rgba(0, 0, 0, 0.15);\n",
              "      filter: drop-shadow(0px 1px 2px rgba(0, 0, 0, 0.3));\n",
              "      fill: #FFFFFF;\n",
              "    }\n",
              "  </style>\n",
              "\n",
              "    <script>\n",
              "      const buttonEl =\n",
              "        document.querySelector('#df-d14e92f1-4a4b-47b8-820b-a028051480fc button.colab-df-convert');\n",
              "      buttonEl.style.display =\n",
              "        google.colab.kernel.accessAllowed ? 'block' : 'none';\n",
              "\n",
              "      async function convertToInteractive(key) {\n",
              "        const element = document.querySelector('#df-d14e92f1-4a4b-47b8-820b-a028051480fc');\n",
              "        const dataTable =\n",
              "          await google.colab.kernel.invokeFunction('convertToInteractive',\n",
              "                                                    [key], {});\n",
              "        if (!dataTable) return;\n",
              "\n",
              "        const docLinkHtml = 'Like what you see? Visit the ' +\n",
              "          '<a target=\"_blank\" href=https://colab.research.google.com/notebooks/data_table.ipynb>data table notebook</a>'\n",
              "          + ' to learn more about interactive tables.';\n",
              "        element.innerHTML = '';\n",
              "        dataTable['output_type'] = 'display_data';\n",
              "        await google.colab.output.renderOutput(dataTable, element);\n",
              "        const docLink = document.createElement('div');\n",
              "        docLink.innerHTML = docLinkHtml;\n",
              "        element.appendChild(docLink);\n",
              "      }\n",
              "    </script>\n",
              "  </div>\n",
              "\n",
              "\n",
              "<div id=\"df-f6b108b6-3f9e-4c06-8793-ab74cbaa0a87\">\n",
              "  <button class=\"colab-df-quickchart\" onclick=\"quickchart('df-f6b108b6-3f9e-4c06-8793-ab74cbaa0a87')\"\n",
              "            title=\"Suggest charts\"\n",
              "            style=\"display:none;\">\n",
              "\n",
              "<svg xmlns=\"http://www.w3.org/2000/svg\" height=\"24px\"viewBox=\"0 0 24 24\"\n",
              "     width=\"24px\">\n",
              "    <g>\n",
              "        <path d=\"M19 3H5c-1.1 0-2 .9-2 2v14c0 1.1.9 2 2 2h14c1.1 0 2-.9 2-2V5c0-1.1-.9-2-2-2zM9 17H7v-7h2v7zm4 0h-2V7h2v10zm4 0h-2v-4h2v4z\"/>\n",
              "    </g>\n",
              "</svg>\n",
              "  </button>\n",
              "\n",
              "<style>\n",
              "  .colab-df-quickchart {\n",
              "      --bg-color: #E8F0FE;\n",
              "      --fill-color: #1967D2;\n",
              "      --hover-bg-color: #E2EBFA;\n",
              "      --hover-fill-color: #174EA6;\n",
              "      --disabled-fill-color: #AAA;\n",
              "      --disabled-bg-color: #DDD;\n",
              "  }\n",
              "\n",
              "  [theme=dark] .colab-df-quickchart {\n",
              "      --bg-color: #3B4455;\n",
              "      --fill-color: #D2E3FC;\n",
              "      --hover-bg-color: #434B5C;\n",
              "      --hover-fill-color: #FFFFFF;\n",
              "      --disabled-bg-color: #3B4455;\n",
              "      --disabled-fill-color: #666;\n",
              "  }\n",
              "\n",
              "  .colab-df-quickchart {\n",
              "    background-color: var(--bg-color);\n",
              "    border: none;\n",
              "    border-radius: 50%;\n",
              "    cursor: pointer;\n",
              "    display: none;\n",
              "    fill: var(--fill-color);\n",
              "    height: 32px;\n",
              "    padding: 0;\n",
              "    width: 32px;\n",
              "  }\n",
              "\n",
              "  .colab-df-quickchart:hover {\n",
              "    background-color: var(--hover-bg-color);\n",
              "    box-shadow: 0 1px 2px rgba(60, 64, 67, 0.3), 0 1px 3px 1px rgba(60, 64, 67, 0.15);\n",
              "    fill: var(--button-hover-fill-color);\n",
              "  }\n",
              "\n",
              "  .colab-df-quickchart-complete:disabled,\n",
              "  .colab-df-quickchart-complete:disabled:hover {\n",
              "    background-color: var(--disabled-bg-color);\n",
              "    fill: var(--disabled-fill-color);\n",
              "    box-shadow: none;\n",
              "  }\n",
              "\n",
              "  .colab-df-spinner {\n",
              "    border: 2px solid var(--fill-color);\n",
              "    border-color: transparent;\n",
              "    border-bottom-color: var(--fill-color);\n",
              "    animation:\n",
              "      spin 1s steps(1) infinite;\n",
              "  }\n",
              "\n",
              "  @keyframes spin {\n",
              "    0% {\n",
              "      border-color: transparent;\n",
              "      border-bottom-color: var(--fill-color);\n",
              "      border-left-color: var(--fill-color);\n",
              "    }\n",
              "    20% {\n",
              "      border-color: transparent;\n",
              "      border-left-color: var(--fill-color);\n",
              "      border-top-color: var(--fill-color);\n",
              "    }\n",
              "    30% {\n",
              "      border-color: transparent;\n",
              "      border-left-color: var(--fill-color);\n",
              "      border-top-color: var(--fill-color);\n",
              "      border-right-color: var(--fill-color);\n",
              "    }\n",
              "    40% {\n",
              "      border-color: transparent;\n",
              "      border-right-color: var(--fill-color);\n",
              "      border-top-color: var(--fill-color);\n",
              "    }\n",
              "    60% {\n",
              "      border-color: transparent;\n",
              "      border-right-color: var(--fill-color);\n",
              "    }\n",
              "    80% {\n",
              "      border-color: transparent;\n",
              "      border-right-color: var(--fill-color);\n",
              "      border-bottom-color: var(--fill-color);\n",
              "    }\n",
              "    90% {\n",
              "      border-color: transparent;\n",
              "      border-bottom-color: var(--fill-color);\n",
              "    }\n",
              "  }\n",
              "</style>\n",
              "\n",
              "  <script>\n",
              "    async function quickchart(key) {\n",
              "      const quickchartButtonEl =\n",
              "        document.querySelector('#' + key + ' button');\n",
              "      quickchartButtonEl.disabled = true;  // To prevent multiple clicks.\n",
              "      quickchartButtonEl.classList.add('colab-df-spinner');\n",
              "      try {\n",
              "        const charts = await google.colab.kernel.invokeFunction(\n",
              "            'suggestCharts', [key], {});\n",
              "      } catch (error) {\n",
              "        console.error('Error during call to suggestCharts:', error);\n",
              "      }\n",
              "      quickchartButtonEl.classList.remove('colab-df-spinner');\n",
              "      quickchartButtonEl.classList.add('colab-df-quickchart-complete');\n",
              "    }\n",
              "    (() => {\n",
              "      let quickchartButtonEl =\n",
              "        document.querySelector('#df-f6b108b6-3f9e-4c06-8793-ab74cbaa0a87 button');\n",
              "      quickchartButtonEl.style.display =\n",
              "        google.colab.kernel.accessAllowed ? 'block' : 'none';\n",
              "    })();\n",
              "  </script>\n",
              "</div>\n",
              "\n",
              "    </div>\n",
              "  </div>\n"
            ],
            "application/vnd.google.colaboratory.intrinsic+json": {
              "type": "dataframe",
              "variable_name": "train_df",
              "summary": "{\n  \"name\": \"train_df\",\n  \"rows\": 31716,\n  \"fields\": [\n    {\n      \"column\": \"message_id\",\n      \"properties\": {\n        \"dtype\": \"number\",\n        \"std\": 9734,\n        \"min\": 0,\n        \"max\": 33715,\n        \"num_unique_values\": 31716,\n        \"samples\": [\n          32227,\n          2730,\n          9186\n        ],\n        \"semantic_type\": \"\",\n        \"description\": \"\"\n      }\n    },\n    {\n      \"column\": \"text\",\n      \"properties\": {\n        \"dtype\": \"string\",\n        \"num_unique_values\": 28812,\n        \"samples\": [\n          \"boost your business dear bruceg @ em . ca :\\nwe may promote your business :\\n1 . supply the email list according to your order .\\n2 . send out target emails according to your order .\\n3 . supply mailing server and offshore hosting .\\nhope to do business with you .\\nnancy\\nmarketing dept\\nkzll 23123 @ eyou . com\\nno for bruceg @ em . ca : than @ hotmail . com\",\n          \"reformolar prezado senhor ( a )\\ntomamos a liberdade de lhe oferecer nossos servi\\u00e7os , atrav\\u00e9s de seu\\ne - mail .\\nsomos uma empresa voltada para obras e reformas , residenciais ,\\ncomerciais e prediais e industriais , com mais de 20 anos nesse mercado . fazemos\\ntamb\\u00e9m manuten\\u00e7\\u00e3o predial , industrial , residencial e comercial .\\npara maiores informa\\u00e7\\u00f5es favor clicar no link abaixo\\nou ligue para nos\\n0 ( xx ) 51 3386 - 3554\\n0 ( xx ) 51 9985 - 3635\\nou envie um e - mail para :\\nkonstroi @ konstroi . com . br\\nque iremos pessoalmente ver os servi\\u00e7os a executar ( sem custo ) para v . sa .\\nsem mais\\natenciosamente\\nkonstroi\\nps . se v . sa n\\u00e3o desejar receber mais nossos e - mails , por favor , avisar em nosso\\ne - mail\\ngrato\",\n          \"please check out my webcam , want to see my webcam ! ? its finally up for you to see !\\nclick here to see the website ! : )\\nwould you like to stop reciving these ? , press\"\n        ],\n        \"semantic_type\": \"\",\n        \"description\": \"\"\n      }\n    },\n    {\n      \"column\": \"label\",\n      \"properties\": {\n        \"dtype\": \"number\",\n        \"std\": 0,\n        \"min\": 0,\n        \"max\": 1,\n        \"num_unique_values\": 2,\n        \"samples\": [\n          0,\n          1\n        ],\n        \"semantic_type\": \"\",\n        \"description\": \"\"\n      }\n    },\n    {\n      \"column\": \"label_text\",\n      \"properties\": {\n        \"dtype\": \"category\",\n        \"num_unique_values\": 2,\n        \"samples\": [\n          \"ham\",\n          \"spam\"\n        ],\n        \"semantic_type\": \"\",\n        \"description\": \"\"\n      }\n    },\n    {\n      \"column\": \"subject\",\n      \"properties\": {\n        \"dtype\": \"string\",\n        \"num_unique_values\": 23029,\n        \"samples\": [\n          \"ground breaking post card creates annuity leads\",\n          \"11 / 30 and 12 / 3 dpr - update\"\n        ],\n        \"semantic_type\": \"\",\n        \"description\": \"\"\n      }\n    },\n    {\n      \"column\": \"message\",\n      \"properties\": {\n        \"dtype\": \"string\",\n        \"num_unique_values\": 28194,\n        \"samples\": [\n          \"- - - - - - - - - - - - - - - - - - - - - - forwarded by tom acton / corp / enron on 04 / 02 / 2001 11 : 45\\nam - - - - - - - - - - - - - - - - - - - - - - - - - - -\\nronald _ s _ fancher @ reliantenergy . com on 04 / 02 / 2001 11 : 32 : 33 am\\nto : tom . acton @ enron . com , liz . bellamy @ enron . com\\ncc :\\nsubject : apr 3 noms\\nthis is a multipart message in mime format .\\n- - = _ mixed 005 acf 2486256 a 22 _ =\\ncontent - type : multipart / alternative ; boundary = \\\" = _ alternative\\n005 acf 2486256 a 22 _ = \\\"\\n- - = _ alternative 005 acf 2486256 a 22 _ =\\ncontent - type : text / plain ; charset = \\\" us - ascii \\\"\\n- - = _ alternative 005 acf 2486256 a 22 _ =\\ncontent - type : text / html ; charset = \\\" us - ascii \\\"\\n- - = _ alternative 005 acf 2486256 a 22 _ = - -\\n- - = _ mixed 005 acf 2486256 a 22 _ =\\ncontent - type : application / x - ms - excel ; name = \\\" hpl - apr . xls \\\"\\ncontent - disposition : attachment ; filename = \\\" hpl - apr . xls \\\"\\ncontent - transfer - encoding : binary\\n- hpl - apr . xls\",\n          \"discover in the next few minutes regardless of your age , sex , or current\\nhealth status , how this common element can change the way you experience\\nthe next half of your life\\nhttp : / / gexu . 1 . hotitemscontrol . com / 6 /\\nlearn how to increase your quality of life\\nwe really have something here which may be able to reverse some of the\\nproblems\\nassociated with aging . - dr tony karpos md\\naddress listed in above site\\nbut the minister , who from the first had been ill at ease , now became\\npositively angry\\ndo not believe him , your majesty ! he cried .\\nit is a trick , and meant to deceive you . i did not accuse you , answered the\\nking , sternly\"\n        ],\n        \"semantic_type\": \"\",\n        \"description\": \"\"\n      }\n    },\n    {\n      \"column\": \"date\",\n      \"properties\": {\n        \"dtype\": \"date\",\n        \"min\": \"1999-12-10 00:00:00\",\n        \"max\": \"2005-09-06 00:00:00\",\n        \"num_unique_values\": 1523,\n        \"samples\": [\n          \"2000-08-01 00:00:00\",\n          \"2004-08-28 00:00:00\"\n        ],\n        \"semantic_type\": \"\",\n        \"description\": \"\"\n      }\n    }\n  ]\n}"
            }
          },
          "metadata": {},
          "execution_count": 5
        }
      ]
    },
    {
      "cell_type": "code",
      "source": [
        "print(f\"Duplicates: {train_df.duplicated().sum()}\")\n",
        "print(f\"Nulls: {train_df.isna().sum()}\")"
      ],
      "metadata": {
        "colab": {
          "base_uri": "https://localhost:8080/"
        },
        "id": "dF7c7W8xxxrC",
        "outputId": "32a8010d-2f8a-4c0b-89f3-c2d67e03a5bf"
      },
      "execution_count": 6,
      "outputs": [
        {
          "output_type": "stream",
          "name": "stdout",
          "text": [
            "Duplicates: 0\n",
            "Nulls: message_id    0\n",
            "text          0\n",
            "label         0\n",
            "label_text    0\n",
            "subject       0\n",
            "message       0\n",
            "date          0\n",
            "dtype: int64\n"
          ]
        }
      ]
    },
    {
      "cell_type": "code",
      "source": [
        "train_message_id = train_df.iloc[:,0]\n",
        "train_data = train_df.iloc[:,1]\n",
        "train_labels = train_df.iloc[:,2]\n",
        "train_labels_text = train_df.iloc[:,3]\n",
        "train_subject = train_df.iloc[:,4]\n",
        "train_message = train_df.iloc[:,5]\n",
        "train_message_date = train_df.iloc[:,6]\n",
        "\n",
        "print(f\"OVERALL LENGTH: \\n{len(train_message_id)}\\n\")\n",
        "#print(f\"MESSAGE ID: \\n{train_message_id[31715]}\\n\")\n",
        "#print(f\"DATA: \\n{train_data[31715]}\\n\")\n",
        "print(f\"LABEL: \\n{train_labels[31715]}\\n\")\n",
        "#print(f\"LABEL TEXT: \\n{train_labels_text[31715]}\\n\")\n",
        "#print(f\"SUBJECT: \\n{train_subject[31715]}\\n\")\n",
        "print(f\"MESSAGE: \\n{train_message[31715]}\\n\")\n",
        "#print(f\"DATE: \\n{train_message_date[31715]}\\n\")"
      ],
      "metadata": {
        "id": "KTUNIVaLkh0N",
        "colab": {
          "base_uri": "https://localhost:8080/"
        },
        "outputId": "715a77b0-731c-4ec6-e200-67405309f8f3"
      },
      "execution_count": 7,
      "outputs": [
        {
          "output_type": "stream",
          "name": "stdout",
          "text": [
            "OVERALL LENGTH: \n",
            "31716\n",
            "\n",
            "LABEL: \n",
            "0\n",
            "\n",
            "MESSAGE: \n",
            "hi karolina ,\n",
            "the last word i got was that grant masson was still coordinating the contract\n",
            "and would be the person to talk to about getting a copy of the license . i\n",
            "checked to see if i had an electronic copy somewhere , but couldn ' t find\n",
            "anything . i suspect my copy was paper , and it would have been returned to\n",
            "grant when i went back to portland general electric . probably didn ' t speak\n",
            "to the situation in london , anyway , because the real interest in london\n",
            "didn ' t arise until after i would have gotten my copy .\n",
            "grant is transitioning to his new job with el paso in london , so if you have\n",
            "difficulty reaching him , check with vince kaminski , or if vince is\n",
            "unavailable , shriley crenshaw . shirley may know the person in enron legal or\n",
            "contracts admin . who worked with grant on the henwood license .\n",
            "of course , eric t . would have a copy . if you run into problems with houston ,\n",
            "have eric send you a fax . ( the license is relatively short as contracts go . )\n",
            "hope this helps ,\n",
            "michael\n",
            "> > > karolina potter / lon / ect @ enron 10 / 18 / 00 07 : 44 am > > >\n",
            "michael\n",
            "two weeks ago i attended hesi client symposium followed by advanced prosym\n",
            "course in sacramento . during that time i had an opportunity to get to know\n",
            "several people from both henwood energy services support and development\n",
            "groups . one of them was eric toolson - head of client support in hesi , with\n",
            "whom i discussed some issues in regards to our liaison with london based\n",
            "support team . i agreed to meet up with simon crisp back in london to agree\n",
            "on a form of our working relationship .\n",
            "before i go to the meeting i would like to find out the following :\n",
            "the text of enron ' s prosym license\n",
            "what service we are entitled to based on the license\n",
            "i am not sure if you are the person to ask about the above but if you could\n",
            "help me by either providing the license or directing to the appropriate\n",
            "person within enron it would be much appreciated .\n",
            "many thanks\n",
            "karolina\n",
            "\n"
          ]
        }
      ]
    },
    {
      "cell_type": "markdown",
      "source": [
        "## Get Testing Data"
      ],
      "metadata": {
        "id": "Z5axJqQYr9cQ"
      }
    },
    {
      "cell_type": "code",
      "source": [
        "test_data = hf_hub_download(repo_id='SetFit/enron_spam', filename='test.jsonl', repo_type='dataset')"
      ],
      "metadata": {
        "id": "KWbRvN-ir_qz"
      },
      "execution_count": 8,
      "outputs": []
    },
    {
      "cell_type": "code",
      "source": [
        "print(test_data)\n",
        "test_df = pd.read_json(test_data, lines=True)"
      ],
      "metadata": {
        "colab": {
          "base_uri": "https://localhost:8080/"
        },
        "id": "wvqeoO_gsE57",
        "outputId": "70816be5-0a24-49ad-f5eb-d88875a1fbcb"
      },
      "execution_count": 9,
      "outputs": [
        {
          "output_type": "stream",
          "name": "stdout",
          "text": [
            "/root/.cache/huggingface/hub/datasets--SetFit--enron_spam/snapshots/1916f66c89d52221ae33eb57d44498b4f3a5df22/test.jsonl\n"
          ]
        }
      ]
    },
    {
      "cell_type": "code",
      "source": [
        "test_df.head(5)"
      ],
      "metadata": {
        "colab": {
          "base_uri": "https://localhost:8080/",
          "height": 293
        },
        "id": "2K_SoqGdv2Is",
        "outputId": "add39bf7-3a4c-48de-b93e-dea94aa45233"
      },
      "execution_count": 10,
      "outputs": [
        {
          "output_type": "execute_result",
          "data": {
            "text/plain": [
              "   message_id                                               text  label  \\\n",
              "0       31329  expande tu imagen ! ! ! ! ! ! ! ! ! si no pued...      1   \n",
              "1        3969  paliourg learning for life enlarge your member...      1   \n",
              "2       27070  cure premature ejaculation hello ,\\ndid you ej...      1   \n",
              "3        2779  re : noms / actual flow for 3 / 19 / 01 we agr...      0   \n",
              "4        2949  ehronline web address change this message is i...      0   \n",
              "\n",
              "  label_text                                  subject  \\\n",
              "0       spam      expande tu imagen ! ! ! ! ! ! ! ! !   \n",
              "1       spam               paliourg learning for life   \n",
              "2       spam               cure premature ejaculation   \n",
              "3        ham  re : noms / actual flow for 3 / 19 / 01   \n",
              "4        ham             ehronline web address change   \n",
              "\n",
              "                                             message       date  \n",
              "0  si no puede ver este mail , entre a : http : /... 2005-01-19  \n",
              "1  enlarge your member\\nzenextend enlargement pil... 2004-05-06  \n",
              "2  hello ,\\ndid you ejaculate before or within a ... 2005-07-17  \n",
              "3  we agree\\n\" eileen ponton \" on 03 / 20 / 2001 ... 2001-03-20  \n",
              "4  this message is intended for ehronline users o... 2001-03-30  "
            ],
            "text/html": [
              "\n",
              "  <div id=\"df-0bd1d570-522c-4549-b3b7-0867d876095f\" class=\"colab-df-container\">\n",
              "    <div>\n",
              "<style scoped>\n",
              "    .dataframe tbody tr th:only-of-type {\n",
              "        vertical-align: middle;\n",
              "    }\n",
              "\n",
              "    .dataframe tbody tr th {\n",
              "        vertical-align: top;\n",
              "    }\n",
              "\n",
              "    .dataframe thead th {\n",
              "        text-align: right;\n",
              "    }\n",
              "</style>\n",
              "<table border=\"1\" class=\"dataframe\">\n",
              "  <thead>\n",
              "    <tr style=\"text-align: right;\">\n",
              "      <th></th>\n",
              "      <th>message_id</th>\n",
              "      <th>text</th>\n",
              "      <th>label</th>\n",
              "      <th>label_text</th>\n",
              "      <th>subject</th>\n",
              "      <th>message</th>\n",
              "      <th>date</th>\n",
              "    </tr>\n",
              "  </thead>\n",
              "  <tbody>\n",
              "    <tr>\n",
              "      <th>0</th>\n",
              "      <td>31329</td>\n",
              "      <td>expande tu imagen ! ! ! ! ! ! ! ! ! si no pued...</td>\n",
              "      <td>1</td>\n",
              "      <td>spam</td>\n",
              "      <td>expande tu imagen ! ! ! ! ! ! ! ! !</td>\n",
              "      <td>si no puede ver este mail , entre a : http : /...</td>\n",
              "      <td>2005-01-19</td>\n",
              "    </tr>\n",
              "    <tr>\n",
              "      <th>1</th>\n",
              "      <td>3969</td>\n",
              "      <td>paliourg learning for life enlarge your member...</td>\n",
              "      <td>1</td>\n",
              "      <td>spam</td>\n",
              "      <td>paliourg learning for life</td>\n",
              "      <td>enlarge your member\\nzenextend enlargement pil...</td>\n",
              "      <td>2004-05-06</td>\n",
              "    </tr>\n",
              "    <tr>\n",
              "      <th>2</th>\n",
              "      <td>27070</td>\n",
              "      <td>cure premature ejaculation hello ,\\ndid you ej...</td>\n",
              "      <td>1</td>\n",
              "      <td>spam</td>\n",
              "      <td>cure premature ejaculation</td>\n",
              "      <td>hello ,\\ndid you ejaculate before or within a ...</td>\n",
              "      <td>2005-07-17</td>\n",
              "    </tr>\n",
              "    <tr>\n",
              "      <th>3</th>\n",
              "      <td>2779</td>\n",
              "      <td>re : noms / actual flow for 3 / 19 / 01 we agr...</td>\n",
              "      <td>0</td>\n",
              "      <td>ham</td>\n",
              "      <td>re : noms / actual flow for 3 / 19 / 01</td>\n",
              "      <td>we agree\\n\" eileen ponton \" on 03 / 20 / 2001 ...</td>\n",
              "      <td>2001-03-20</td>\n",
              "    </tr>\n",
              "    <tr>\n",
              "      <th>4</th>\n",
              "      <td>2949</td>\n",
              "      <td>ehronline web address change this message is i...</td>\n",
              "      <td>0</td>\n",
              "      <td>ham</td>\n",
              "      <td>ehronline web address change</td>\n",
              "      <td>this message is intended for ehronline users o...</td>\n",
              "      <td>2001-03-30</td>\n",
              "    </tr>\n",
              "  </tbody>\n",
              "</table>\n",
              "</div>\n",
              "    <div class=\"colab-df-buttons\">\n",
              "\n",
              "  <div class=\"colab-df-container\">\n",
              "    <button class=\"colab-df-convert\" onclick=\"convertToInteractive('df-0bd1d570-522c-4549-b3b7-0867d876095f')\"\n",
              "            title=\"Convert this dataframe to an interactive table.\"\n",
              "            style=\"display:none;\">\n",
              "\n",
              "  <svg xmlns=\"http://www.w3.org/2000/svg\" height=\"24px\" viewBox=\"0 -960 960 960\">\n",
              "    <path d=\"M120-120v-720h720v720H120Zm60-500h600v-160H180v160Zm220 220h160v-160H400v160Zm0 220h160v-160H400v160ZM180-400h160v-160H180v160Zm440 0h160v-160H620v160ZM180-180h160v-160H180v160Zm440 0h160v-160H620v160Z\"/>\n",
              "  </svg>\n",
              "    </button>\n",
              "\n",
              "  <style>\n",
              "    .colab-df-container {\n",
              "      display:flex;\n",
              "      gap: 12px;\n",
              "    }\n",
              "\n",
              "    .colab-df-convert {\n",
              "      background-color: #E8F0FE;\n",
              "      border: none;\n",
              "      border-radius: 50%;\n",
              "      cursor: pointer;\n",
              "      display: none;\n",
              "      fill: #1967D2;\n",
              "      height: 32px;\n",
              "      padding: 0 0 0 0;\n",
              "      width: 32px;\n",
              "    }\n",
              "\n",
              "    .colab-df-convert:hover {\n",
              "      background-color: #E2EBFA;\n",
              "      box-shadow: 0px 1px 2px rgba(60, 64, 67, 0.3), 0px 1px 3px 1px rgba(60, 64, 67, 0.15);\n",
              "      fill: #174EA6;\n",
              "    }\n",
              "\n",
              "    .colab-df-buttons div {\n",
              "      margin-bottom: 4px;\n",
              "    }\n",
              "\n",
              "    [theme=dark] .colab-df-convert {\n",
              "      background-color: #3B4455;\n",
              "      fill: #D2E3FC;\n",
              "    }\n",
              "\n",
              "    [theme=dark] .colab-df-convert:hover {\n",
              "      background-color: #434B5C;\n",
              "      box-shadow: 0px 1px 3px 1px rgba(0, 0, 0, 0.15);\n",
              "      filter: drop-shadow(0px 1px 2px rgba(0, 0, 0, 0.3));\n",
              "      fill: #FFFFFF;\n",
              "    }\n",
              "  </style>\n",
              "\n",
              "    <script>\n",
              "      const buttonEl =\n",
              "        document.querySelector('#df-0bd1d570-522c-4549-b3b7-0867d876095f button.colab-df-convert');\n",
              "      buttonEl.style.display =\n",
              "        google.colab.kernel.accessAllowed ? 'block' : 'none';\n",
              "\n",
              "      async function convertToInteractive(key) {\n",
              "        const element = document.querySelector('#df-0bd1d570-522c-4549-b3b7-0867d876095f');\n",
              "        const dataTable =\n",
              "          await google.colab.kernel.invokeFunction('convertToInteractive',\n",
              "                                                    [key], {});\n",
              "        if (!dataTable) return;\n",
              "\n",
              "        const docLinkHtml = 'Like what you see? Visit the ' +\n",
              "          '<a target=\"_blank\" href=https://colab.research.google.com/notebooks/data_table.ipynb>data table notebook</a>'\n",
              "          + ' to learn more about interactive tables.';\n",
              "        element.innerHTML = '';\n",
              "        dataTable['output_type'] = 'display_data';\n",
              "        await google.colab.output.renderOutput(dataTable, element);\n",
              "        const docLink = document.createElement('div');\n",
              "        docLink.innerHTML = docLinkHtml;\n",
              "        element.appendChild(docLink);\n",
              "      }\n",
              "    </script>\n",
              "  </div>\n",
              "\n",
              "\n",
              "<div id=\"df-bf3fa8a2-73fd-4b02-9864-4cdc7c67972f\">\n",
              "  <button class=\"colab-df-quickchart\" onclick=\"quickchart('df-bf3fa8a2-73fd-4b02-9864-4cdc7c67972f')\"\n",
              "            title=\"Suggest charts\"\n",
              "            style=\"display:none;\">\n",
              "\n",
              "<svg xmlns=\"http://www.w3.org/2000/svg\" height=\"24px\"viewBox=\"0 0 24 24\"\n",
              "     width=\"24px\">\n",
              "    <g>\n",
              "        <path d=\"M19 3H5c-1.1 0-2 .9-2 2v14c0 1.1.9 2 2 2h14c1.1 0 2-.9 2-2V5c0-1.1-.9-2-2-2zM9 17H7v-7h2v7zm4 0h-2V7h2v10zm4 0h-2v-4h2v4z\"/>\n",
              "    </g>\n",
              "</svg>\n",
              "  </button>\n",
              "\n",
              "<style>\n",
              "  .colab-df-quickchart {\n",
              "      --bg-color: #E8F0FE;\n",
              "      --fill-color: #1967D2;\n",
              "      --hover-bg-color: #E2EBFA;\n",
              "      --hover-fill-color: #174EA6;\n",
              "      --disabled-fill-color: #AAA;\n",
              "      --disabled-bg-color: #DDD;\n",
              "  }\n",
              "\n",
              "  [theme=dark] .colab-df-quickchart {\n",
              "      --bg-color: #3B4455;\n",
              "      --fill-color: #D2E3FC;\n",
              "      --hover-bg-color: #434B5C;\n",
              "      --hover-fill-color: #FFFFFF;\n",
              "      --disabled-bg-color: #3B4455;\n",
              "      --disabled-fill-color: #666;\n",
              "  }\n",
              "\n",
              "  .colab-df-quickchart {\n",
              "    background-color: var(--bg-color);\n",
              "    border: none;\n",
              "    border-radius: 50%;\n",
              "    cursor: pointer;\n",
              "    display: none;\n",
              "    fill: var(--fill-color);\n",
              "    height: 32px;\n",
              "    padding: 0;\n",
              "    width: 32px;\n",
              "  }\n",
              "\n",
              "  .colab-df-quickchart:hover {\n",
              "    background-color: var(--hover-bg-color);\n",
              "    box-shadow: 0 1px 2px rgba(60, 64, 67, 0.3), 0 1px 3px 1px rgba(60, 64, 67, 0.15);\n",
              "    fill: var(--button-hover-fill-color);\n",
              "  }\n",
              "\n",
              "  .colab-df-quickchart-complete:disabled,\n",
              "  .colab-df-quickchart-complete:disabled:hover {\n",
              "    background-color: var(--disabled-bg-color);\n",
              "    fill: var(--disabled-fill-color);\n",
              "    box-shadow: none;\n",
              "  }\n",
              "\n",
              "  .colab-df-spinner {\n",
              "    border: 2px solid var(--fill-color);\n",
              "    border-color: transparent;\n",
              "    border-bottom-color: var(--fill-color);\n",
              "    animation:\n",
              "      spin 1s steps(1) infinite;\n",
              "  }\n",
              "\n",
              "  @keyframes spin {\n",
              "    0% {\n",
              "      border-color: transparent;\n",
              "      border-bottom-color: var(--fill-color);\n",
              "      border-left-color: var(--fill-color);\n",
              "    }\n",
              "    20% {\n",
              "      border-color: transparent;\n",
              "      border-left-color: var(--fill-color);\n",
              "      border-top-color: var(--fill-color);\n",
              "    }\n",
              "    30% {\n",
              "      border-color: transparent;\n",
              "      border-left-color: var(--fill-color);\n",
              "      border-top-color: var(--fill-color);\n",
              "      border-right-color: var(--fill-color);\n",
              "    }\n",
              "    40% {\n",
              "      border-color: transparent;\n",
              "      border-right-color: var(--fill-color);\n",
              "      border-top-color: var(--fill-color);\n",
              "    }\n",
              "    60% {\n",
              "      border-color: transparent;\n",
              "      border-right-color: var(--fill-color);\n",
              "    }\n",
              "    80% {\n",
              "      border-color: transparent;\n",
              "      border-right-color: var(--fill-color);\n",
              "      border-bottom-color: var(--fill-color);\n",
              "    }\n",
              "    90% {\n",
              "      border-color: transparent;\n",
              "      border-bottom-color: var(--fill-color);\n",
              "    }\n",
              "  }\n",
              "</style>\n",
              "\n",
              "  <script>\n",
              "    async function quickchart(key) {\n",
              "      const quickchartButtonEl =\n",
              "        document.querySelector('#' + key + ' button');\n",
              "      quickchartButtonEl.disabled = true;  // To prevent multiple clicks.\n",
              "      quickchartButtonEl.classList.add('colab-df-spinner');\n",
              "      try {\n",
              "        const charts = await google.colab.kernel.invokeFunction(\n",
              "            'suggestCharts', [key], {});\n",
              "      } catch (error) {\n",
              "        console.error('Error during call to suggestCharts:', error);\n",
              "      }\n",
              "      quickchartButtonEl.classList.remove('colab-df-spinner');\n",
              "      quickchartButtonEl.classList.add('colab-df-quickchart-complete');\n",
              "    }\n",
              "    (() => {\n",
              "      let quickchartButtonEl =\n",
              "        document.querySelector('#df-bf3fa8a2-73fd-4b02-9864-4cdc7c67972f button');\n",
              "      quickchartButtonEl.style.display =\n",
              "        google.colab.kernel.accessAllowed ? 'block' : 'none';\n",
              "    })();\n",
              "  </script>\n",
              "</div>\n",
              "\n",
              "    </div>\n",
              "  </div>\n"
            ],
            "application/vnd.google.colaboratory.intrinsic+json": {
              "type": "dataframe",
              "variable_name": "test_df",
              "summary": "{\n  \"name\": \"test_df\",\n  \"rows\": 2000,\n  \"fields\": [\n    {\n      \"column\": \"message_id\",\n      \"properties\": {\n        \"dtype\": \"number\",\n        \"std\": 9711,\n        \"min\": 13,\n        \"max\": 33701,\n        \"num_unique_values\": 2000,\n        \"samples\": [\n          13318,\n          15068,\n          1554\n        ],\n        \"semantic_type\": \"\",\n        \"description\": \"\"\n      }\n    },\n    {\n      \"column\": \"text\",\n      \"properties\": {\n        \"dtype\": \"string\",\n        \"num_unique_values\": 1982,\n        \"samples\": [\n          \"enron / hpl actuals for december 8 - 10 , 2000 december 8 , 2000\\nteco tap 120 . 000 / hpl gas daily ; 29 . 583 / enron\\nls hpl lsk ic 20 . 000 / enron\\ndecember 9 , 2000\\nteco tap 120 . 000 / hpl gas daily ; 30 . 000 / enron\\ndecember 10 , 2000\\nteco tap 30 . 000 / enron ; 120 . 000 / hpl gas daily\",\n          \"fw : today ' s direct access decision here is a copy of the cpuc ' s decision on sept 20\\n- - - - - original message - - - - -\\nfrom : comnes , alan\\nsent : thursday , september 20 , 2001 2 : 30 pm\\nto : dasovich , jeff ; mara , susan ; hall , steve c . ( legal ) ; savage , gordon ; swain , steve ; curry , wanda\\nsubject : today ' s direct access decision\\nscanned\",\n          \"can ' t draw a straight line ? well . . . now you can ! get cd and downloads , all software under $ 99 - $ 15\\nthe least of learning is done in the classrooms .\\ncustoms are more powerful than laws .\"\n        ],\n        \"semantic_type\": \"\",\n        \"description\": \"\"\n      }\n    },\n    {\n      \"column\": \"label\",\n      \"properties\": {\n        \"dtype\": \"number\",\n        \"std\": 0,\n        \"min\": 0,\n        \"max\": 1,\n        \"num_unique_values\": 2,\n        \"samples\": [\n          0,\n          1\n        ],\n        \"semantic_type\": \"\",\n        \"description\": \"\"\n      }\n    },\n    {\n      \"column\": \"label_text\",\n      \"properties\": {\n        \"dtype\": \"category\",\n        \"num_unique_values\": 2,\n        \"samples\": [\n          \"ham\",\n          \"spam\"\n        ],\n        \"semantic_type\": \"\",\n        \"description\": \"\"\n      }\n    },\n    {\n      \"column\": \"subject\",\n      \"properties\": {\n        \"dtype\": \"string\",\n        \"num_unique_values\": 1846,\n        \"samples\": [\n          \"montana volumes - ' 00 - ' 01\",\n          \"re : sitara positions , end of month feedback from unify\"\n        ],\n        \"semantic_type\": \"\",\n        \"description\": \"\"\n      }\n    },\n    {\n      \"column\": \"message\",\n      \"properties\": {\n        \"dtype\": \"string\",\n        \"num_unique_values\": 1953,\n        \"samples\": [\n          \"i will be taking tuesday and friday of this week off . i will be at home and available by cell phone . if needed , i will be able to come into the office for a short period of time .\",\n          \"it worked . thanks .\\ndaren j farmer @ ect\\n02 / 15 / 2001 02 : 08 pm\\nto : megan parker / corp / enron @ enron\\ncc :\\nsubject : re : panenergy 9 / 00\\ni changed the demand to a negative value . i don ' t know if this will work or\\nnot . if it does not work , i can put the demand on the sale ticket .\\nd\\nenron north america corp .\\nfrom : megan parker @ enron 02 / 15 / 2001 01 : 55 pm\\nto : daren j farmer / hou / ect @ ect\\ncc :\\nsubject : re : panenergy 9 / 00\\ncan you make it negative ? we need to reduce our payment .\\ndaren j farmer @ ect\\n02 / 15 / 2001 01 : 40 pm\\nto : megan parker / corp / enron @ enron\\ncc :\\nsubject : re : panenergy 9 / 00\\ndone .\\nenron north america corp .\\nfrom : megan parker @ enron 02 / 15 / 2001 01 : 09 pm\\nto : daren j farmer / hou / ect @ ect\\ncc :\\nsubject : panenergy 9 / 00\\ni finally heard back from duke regarding sept 2000 . they agree with our\\nspreadsheet , so i need a demand fee to adjust the price in sitara .\\ndeal 157288 - demand fee of ( $ 8 , 745 . 69 )\\nthanks ,\\nmegan\"\n        ],\n        \"semantic_type\": \"\",\n        \"description\": \"\"\n      }\n    },\n    {\n      \"column\": \"date\",\n      \"properties\": {\n        \"dtype\": \"date\",\n        \"min\": \"1999-12-10 00:00:00\",\n        \"max\": \"2005-09-06 00:00:00\",\n        \"num_unique_values\": 934,\n        \"samples\": [\n          \"2001-10-10 00:00:00\",\n          \"2002-07-30 00:00:00\"\n        ],\n        \"semantic_type\": \"\",\n        \"description\": \"\"\n      }\n    }\n  ]\n}"
            }
          },
          "metadata": {},
          "execution_count": 10
        }
      ]
    },
    {
      "cell_type": "code",
      "source": [
        "test_message_id = test_df.iloc[:,0]\n",
        "test_data = test_df.iloc[:,1]\n",
        "test_labels = test_df.iloc[:,2]\n",
        "test_labels_text = test_df.iloc[:,3]\n",
        "test_subject = test_df.iloc[:,4]\n",
        "test_message = test_df.iloc[:,5]\n",
        "test_message_date = test_df.iloc[:,6]\n",
        "\n",
        "print(f\"OVERALL LENGTH: \\n{len(test_message_id)}\\n\")\n",
        "#print(f\"MESSAGE ID: \\n{test_message_id[1999]}\\n\")\n",
        "#print(f\"DATA: \\n{test_data[1999]}\\n\")\n",
        "print(f\"LABEL: \\n{test_labels[1999]}\\n\")\n",
        "#print(f\"LABEL TEXT: \\n{test_labels_text[1999]}\\n\")\n",
        "#print(f\"SUBJECT: \\n{test_subject[1999]}\\n\")\n",
        "print(f\"MESSAGE: \\n{test_message[1999]}\\n\")\n",
        "#print(f\"DATE: \\n{test_message_date[1999]}\\n\")"
      ],
      "metadata": {
        "id": "_G0HPp_ksQT_",
        "colab": {
          "base_uri": "https://localhost:8080/"
        },
        "outputId": "f181d67e-67f8-4761-f546-e7bf56dc10c1"
      },
      "execution_count": 11,
      "outputs": [
        {
          "output_type": "stream",
          "name": "stdout",
          "text": [
            "OVERALL LENGTH: \n",
            "2000\n",
            "\n",
            "LABEL: \n",
            "0\n",
            "\n",
            "MESSAGE: \n",
            "ngts , whose main headquarters is located in dallas , has a one - man office\n",
            "located in colorado springs , colorado . john rohde purchases gas from 30\n",
            "small to medium sized suppliers in the rocky mountain area and either acts as\n",
            "their agent or moves their purchased gas to markets for ngts . most of this\n",
            "gas generally either goes to the rocky markets or to northern natural\n",
            "pipeline . ngts holds cig capacity , and i have encouraged john to look at any\n",
            "future potential of making deliveries off cig into tw at tumbleweed . john\n",
            "also indicated that he thought ngts does have some equity san juan gas which\n",
            "currently flows on el paso to california via capacity release . i will\n",
            "pursue this fact with the proper individual in the dallas office .\n",
            "\n"
          ]
        }
      ]
    },
    {
      "cell_type": "markdown",
      "source": [
        "## Analyze Training and Testing Data"
      ],
      "metadata": {
        "id": "X2Z0GyFQstCh"
      }
    },
    {
      "cell_type": "code",
      "source": [
        "# Get target training  labels and counts of each type of label\n",
        "bins, counts = np.unique(train_labels, return_counts=True)\n",
        "print(counts/len(train_data))\n",
        "# Create frequency series of training data\n",
        "freq_series = pd.Series(counts/len(train_message))\n",
        "# Create plot\n",
        "plt.figure()\n",
        "ax = freq_series.plot(kind='bar')\n",
        "ax.set_xticklabels(bins, rotation=0)\n",
        "plt.show()"
      ],
      "metadata": {
        "colab": {
          "base_uri": "https://localhost:8080/",
          "height": 447
        },
        "id": "EGjUMWyxswCm",
        "outputId": "63a39a8a-4154-4c5d-ca97-9698843cd444"
      },
      "execution_count": 12,
      "outputs": [
        {
          "output_type": "stream",
          "name": "stdout",
          "text": [
            "[0.4903834 0.5096166]\n"
          ]
        },
        {
          "output_type": "display_data",
          "data": {
            "text/plain": [
              "<Figure size 640x480 with 1 Axes>"
            ],
            "image/png": "[encoded data removed]"
          },
          "metadata": {}
        }
      ]
    },
    {
      "cell_type": "code",
      "source": [
        "# Get target training  labels and counts of each type of label\n",
        "bins, counts = np.unique(test_labels, return_counts=True)\n",
        "print(counts/len(test_data))\n",
        "# Create frequency series of training data\n",
        "freq_series = pd.Series(counts/len(test_message))\n",
        "# Create plot\n",
        "plt.figure()\n",
        "ax = freq_series.plot(kind='bar')\n",
        "ax.set_xticklabels(bins, rotation=0)\n",
        "plt.show()"
      ],
      "metadata": {
        "colab": {
          "base_uri": "https://localhost:8080/",
          "height": 447
        },
        "id": "eHkMF-0pgXKN",
        "outputId": "c6cec29a-8c1c-4952-bc9c-3d192368cc9e"
      },
      "execution_count": 13,
      "outputs": [
        {
          "output_type": "stream",
          "name": "stdout",
          "text": [
            "[0.496 0.504]\n"
          ]
        },
        {
          "output_type": "display_data",
          "data": {
            "text/plain": [
              "<Figure size 640x480 with 1 Axes>"
            ],
            "image/png": "[encoded data removed]"
          },
          "metadata": {}
        }
      ]
    },
    {
      "cell_type": "code",
      "source": [
        "X_data, V_data, X_labels, V_labels = train_test_split(train_message, train_labels, train_size=0.8, random_state=1)\n",
        "print('Training data size: {}'.format(len(X_data)))\n",
        "print('Validation data size: {}'.format(len(V_data)))"
      ],
      "metadata": {
        "colab": {
          "base_uri": "https://localhost:8080/"
        },
        "id": "WT_X6wb4ksgv",
        "outputId": "270260a2-5822-428e-c94b-0c15d7a7f24b"
      },
      "execution_count": 14,
      "outputs": [
        {
          "output_type": "stream",
          "name": "stdout",
          "text": [
            "Training data size: 25372\n",
            "Validation data size: 6344\n"
          ]
        }
      ]
    },
    {
      "cell_type": "code",
      "source": [
        "print('Training data: {}'.format(X_data[0]))"
      ],
      "metadata": {
        "colab": {
          "base_uri": "https://localhost:8080/"
        },
        "id": "M7ML10mwiiUI",
        "outputId": "2f87fca0-3a6f-48ff-93c8-aec902fda10d"
      },
      "execution_count": 15,
      "outputs": [
        {
          "output_type": "stream",
          "name": "stdout",
          "text": [
            "Training data: understanding oem software\n",
            "lead me not into temptation ; i can find the way myself .\n",
            "# 3533 . the law disregards trifles .\n"
          ]
        }
      ]
    },
    {
      "cell_type": "markdown",
      "source": [
        "## Train Model with Training Data"
      ],
      "metadata": {
        "id": "g59jpwtBu7eu"
      }
    },
    {
      "cell_type": "code",
      "source": [
        "from imblearn.ensemble import RUSBoostClassifier\n",
        "from sklearn.pipeline import make_pipeline\n",
        "\n",
        "bagging_vectorizer = TfidfVectorizer()\n",
        "bag_data_vec = bagging_vectorizer.fit_transform(X_data)\n",
        "nb_classifier = MultinomialNB()\n",
        "bagging = RUSBoostClassifier(base_estimator=nb_classifier, n_estimators=100)\n",
        "bag_model = bagging.fit(bag_data_vec,X_labels)"
      ],
      "metadata": {
        "colab": {
          "base_uri": "https://localhost:8080/"
        },
        "id": "qeybjl9ua-nd",
        "outputId": "b7e2b471-b61a-4fee-cdd1-e6b8279130ad"
      },
      "execution_count": 16,
      "outputs": [
        {
          "output_type": "stream",
          "name": "stderr",
          "text": [
            "/usr/local/lib/python3.10/dist-packages/imblearn/ensemble/_weight_boosting.py:267: FutureWarning: `base_estimator` was renamed to `estimator` in version 0.10 and will be removed in 0.12.\n",
            "  warnings.warn(\n"
          ]
        }
      ]
    },
    {
      "cell_type": "code",
      "source": [
        "test_mes_vec = bagging_vectorizer.transform(test_message)\n",
        "\n",
        "predictions = bag_model.predict(test_mes_vec)"
      ],
      "metadata": {
        "id": "Q1JoRVSLa_Wb"
      },
      "execution_count": 17,
      "outputs": []
    },
    {
      "cell_type": "code",
      "source": [
        "print(metrics.classification_report(test_labels, predictions, target_names=['not-spam','spam']))"
      ],
      "metadata": {
        "id": "LH2-umLbbHv3",
        "outputId": "8365abc4-4b2c-4960-f206-62f1be34d448",
        "colab": {
          "base_uri": "https://localhost:8080/"
        }
      },
      "execution_count": 18,
      "outputs": [
        {
          "output_type": "stream",
          "name": "stdout",
          "text": [
            "              precision    recall  f1-score   support\n",
            "\n",
            "    not-spam       0.98      0.89      0.93       992\n",
            "        spam       0.90      0.98      0.94      1008\n",
            "\n",
            "    accuracy                           0.94      2000\n",
            "   macro avg       0.94      0.93      0.93      2000\n",
            "weighted avg       0.94      0.94      0.93      2000\n",
            "\n"
          ]
        }
      ]
    },
    {
      "cell_type": "markdown",
      "source": [
        "### TEXTATTACK"
      ],
      "metadata": {
        "id": "0wsQ-PGpCHkl"
      }
    },
    {
      "cell_type": "code",
      "source": [
        "dataset =  HuggingFaceDataset(\"SetFit/enron_spam\", None, \"train\", dataset_columns=(['message'],'label'))"
      ],
      "metadata": {
        "id": "pRHR5bLdDcAP"
      },
      "execution_count": null,
      "outputs": []
    },
    {
      "cell_type": "code",
      "source": [
        "from textattack.models.wrappers import SklearnModelWrapper\n",
        "\n",
        "class CustomSklearnModelWrapper(SklearnModelWrapper):\n",
        "    def __init__(self, model, tokenizer):\n",
        "        super().__init__(model,tokenizer)\n",
        "\n",
        "    def __call__(self, text_input_list, batch_size=None):\n",
        "        encoded_text_matrix = self.tokenizer.transform(text_input_list).toarray()\n",
        "        tokenized_text_df = pd.DataFrame(\n",
        "            encoded_text_matrix, columns=self.tokenizer.get_feature_names_out()\n",
        "        )\n",
        "        return self.model.predict_proba(tokenized_text_df)\n"
      ],
      "metadata": {
        "id": "pfHJAnWzRbGY"
      },
      "execution_count": 23,
      "outputs": []
    },
    {
      "cell_type": "code",
      "source": [
        "model_wrapper = CustomSklearnModelWrapper(bag_model, bagging_vectorizer)\n",
        "#attack = TextFoolerJin2019.build(model_wrapper)\n",
        "\n",
        "# Example: Target class index for all samples\n",
        "target_class = 0  # Adjust based on your dataset and target\n",
        "goal_function = TargetedClassification(model_wrapper, target_class)\n",
        "transformation = WordSwapEmbedding()\n",
        "constraints = [UniversalSentenceEncoder(threshold=0.7)]\n",
        "search_method = GreedyWordSwapWIR()\n",
        "attack = Attack(goal_function, constraints, transformation, search_method)"
      ],
      "metadata": {
        "colab": {
          "base_uri": "https://localhost:8080/"
        },
        "id": "JloFMrKwDCw7",
        "outputId": "167ee7d4-eeac-46e0-a40d-e365cc4ceb00"
      },
      "execution_count": 32,
      "outputs": [
        {
          "output_type": "stream",
          "name": "stderr",
          "text": [
            "textattack: Unknown if model of class <class 'imblearn.ensemble._weight_boosting.RUSBoostClassifier'> compatible with goal function <class 'textattack.goal_functions.classification.targeted_classification.TargetedClassification'>.\n"
          ]
        }
      ]
    },
    {
      "cell_type": "code",
      "source": [
        "attacker = Attacker(attack, dataset)\n",
        "attacker.attack_dataset()"
      ],
      "metadata": {
        "colab": {
          "base_uri": "https://localhost:8080/"
        },
        "id": "35XXE4SdIVN7",
        "outputId": "fa1ba214-b3b2-4b68-8109-1e04d9e68b3c"
      },
      "execution_count": 35,
      "outputs": [
        {
          "output_type": "stream",
          "name": "stdout",
          "text": [
            "Attack(\n",
            "  (search_method): GreedyWordSwapWIR(\n",
            "    (wir_method):  unk\n",
            "  )\n",
            "  (goal_function):  TargetedClassification(\n",
            "    (target_class):  0\n",
            "  )\n",
            "  (transformation):  WordSwapEmbedding(\n",
            "    (max_candidates):  15\n",
            "    (embedding):  WordEmbedding\n",
            "  )\n",
            "  (constraints): \n",
            "    (0): UniversalSentenceEncoder(\n",
            "        (metric):  angular\n",
            "        (threshold):  0.7\n",
            "        (window_size):  inf\n",
            "        (skip_text_shorter_than_window):  False\n",
            "        (compare_against_original):  True\n",
            "      )\n",
            "  (is_black_box):  True\n",
            ") \n",
            "\n"
          ]
        },
        {
          "output_type": "stream",
          "name": "stderr",
          "text": [
            "[Succeeded / Failed / Skipped / Total] 1 / 0 / 0 / 1:  10%|█         | 1/10 [00:07<01:03,  7.05s/it]"
          ]
        },
        {
          "output_type": "stream",
          "name": "stdout",
          "text": [
            "--------------------------------------------- Result 1 ---------------------------------------------\n",
            "[[1 (50%)]] --> [[0 (50%)]]\n",
            "\n",
            "understanding oem [[software]]\n",
            "lead me [[not]] [[into]] [[temptation]] ; [[i]] [[can]] find the [[way]] myself .\n",
            "# 3533 . the [[law]] disregards [[trifles]] .\n",
            "\n",
            "understanding oem [[projects]]\n",
            "lead me [[non]] [[to]] [[enticement]] ; [[me]] [[could]] find the [[path]] myself .\n",
            "# 3533 . the [[bill]] disregards [[banalities]] .\n",
            "\n",
            "\n"
          ]
        },
        {
          "output_type": "stream",
          "name": "stderr",
          "text": [
            "[Succeeded / Failed / Skipped / Total] 1 / 0 / 1 / 2:  20%|██        | 2/10 [00:07<00:30,  3.80s/it]"
          ]
        },
        {
          "output_type": "stream",
          "name": "stdout",
          "text": [
            "--------------------------------------------- Result 2 ---------------------------------------------\n",
            "[[0 (50%)]] --> [[[SKIPPED]]]\n",
            "\n",
            "19 th , 2 : 00 pm edt\n",
            "perspective on ferc regulatory action client conference call\n",
            "today , tuesday , june 19 th\n",
            "2 : 00 pm edt\n",
            "host : ray niles , power / natural gas analyst\n",
            "speaker : steve bergstrom , president & coo of dynegy\n",
            "steve bergstrom , president and chief operating officer of dynegy , will join\n",
            "us at 2 : 00 p . m . today for a conference call discussion of the recent ferc\n",
            "action imposing price controls in the west . the discussion will be followed\n",
            "by q & a .\n",
            "questions to be explored include :\n",
            "what are the implications of the ferc action , for dyn and the industry as a\n",
            "whole ?\n",
            "what is the earnings impact ?\n",
            "what are the risks of further re - regulation ?\n",
            "and whatever else is on your minds\n",
            "we attach two recent notes on the ferc action for your reference .\n",
            "call in replay reservation\n",
            "800 - 229 - 0281 us 800 - 642 - 1687 us 1073259\n",
            "706 - 645 - 9237 int ' l 706 - 645 - 9291 int ' l\n",
            "replay until 6 / 22 , 11 : 59 pm\n",
            "raymond c . niles\n",
            "power / natural gas research\n",
            "salomon smith barney\n",
            "( 212 ) 816 - 2807\n",
            "ray . niles @ ssmb . com\n",
            "s\n",
            "\n",
            "\n"
          ]
        },
        {
          "output_type": "stream",
          "name": "stderr",
          "text": [
            "[Succeeded / Failed / Skipped / Total] 1 / 1 / 1 / 3:  30%|███       | 3/10 [00:23<00:54,  7.73s/it]"
          ]
        },
        {
          "output_type": "stream",
          "name": "stdout",
          "text": [
            "--------------------------------------------- Result 3 ---------------------------------------------\n",
            "[[1 (50%)]] --> [[[FAILED]]]\n",
            "\n",
            "viagra at $ 1 . 12 per dose\n",
            "ready to boost your sex life ? positive ?\n",
            "time to do it right now . order viagra at incredibly low prices\n",
            "$ 1 . 12 per dose . unbelivable\n",
            "remove\n",
            "\n",
            "\n",
            "\n"
          ]
        },
        {
          "output_type": "stream",
          "name": "stderr",
          "text": [
            "[Succeeded / Failed / Skipped / Total] 1 / 1 / 2 / 4:  40%|████      | 4/10 [00:23<00:35,  5.94s/it]"
          ]
        },
        {
          "output_type": "stream",
          "name": "stdout",
          "text": [
            "--------------------------------------------- Result 4 ---------------------------------------------\n",
            "[[0 (50%)]] --> [[[SKIPPED]]]\n",
            "\n",
            "teco tap 30 . 000 / enron ; 120 . 000 / hpl gas daily\n",
            "ls hpl lsk ic 30 . 000 / enron\n",
            "\n",
            "\n"
          ]
        },
        {
          "output_type": "stream",
          "name": "stderr",
          "text": [
            "[Succeeded / Failed / Skipped / Total] 1 / 2 / 2 / 5:  50%|█████     | 5/10 [00:48<00:48,  9.73s/it]"
          ]
        },
        {
          "output_type": "stream",
          "name": "stdout",
          "text": [
            "--------------------------------------------- Result 5 ---------------------------------------------\n",
            "[[1 (50%)]] --> [[[FAILED]]]\n",
            "\n",
            "water past also , burn , course . gave country , mass lot . act north\n",
            "good . from , learn form most brother vary . when more for . up\n",
            "stick , century put , song be . test , describe , plain , against wood\n",
            "star . began dress ever group . here oh , most world stay .\n",
            "\n",
            "\n",
            "\n"
          ]
        },
        {
          "output_type": "stream",
          "name": "stderr",
          "text": [
            "[Succeeded / Failed / Skipped / Total] 2 / 2 / 2 / 6:  60%|██████    | 6/10 [02:13<01:29, 22.28s/it]"
          ]
        },
        {
          "output_type": "stream",
          "name": "stdout",
          "text": [
            "--------------------------------------------- Result 6 ---------------------------------------------\n",
            "[[1 (50%)]] --> [[0 (50%)]]\n",
            "\n",
            "vera ,\n",
            "vcsc - [[brand]] new stock for [[your]] attention\n",
            "vocalscape inc - the stock symbo | is : vcsc\n",
            "breaking news released by the [[company]] on friday after the ciose - [[watch]] out the stock go crazy next week .\n",
            "current price : $ 0 . 175\n",
            "projected speculative price in next 5 days : $ 0 . 42\n",
            "projected specuiative price in next 15 days : $ 0 . 55\n",
            "vocalscape networks inc . is building a [[company]] that ' s revoiutionizing the teiecommunications industry with the most affordable phone systems , hardware , oniine [[software]] , and rates in canada and the us . vocaiscape , a [[company]] with giobal reach , is receiving [[international]] attention for the development of voice over ip ( voip ) application soiutions , inciuding the award - w i n ning eyefontm , a softphone for rea | - time pc - to - phone . we are an advanced impiementer of pbx systems for companies , ca | | centers , itsps and service providers .\n",
            "vocalscape has created [[software]] and interactive soiutions revoiving around giobal communications and data voice convergence . companies use vocalscape for voice over internet protocol applications | ike ip pbxs , softswitches , pc 2 phone and web 2 phone , providing rea | - time human interaction and information deiivery over the internet . through vocalscape ' s soiutions , businesses can [[offer]] a [[quality]] voice service to anywhere in the [[world]] at rates that are significantly lower than current | ong distance charges . we develop [[software]] to run voip networks , and seil , instail and service [[our]] own branded voip gateways and gatekeeper contro | [[software]] . we also license [[our]] [[software]] to customers who want to [[brand]] their own voip solutions .\n",
            "vocaiscape is committed to making great technoiogy ; chalienging the status quo , and buiiding a 21 st century [[company]] that changes the way businesses communicate and interact through the internet .\n",
            "current price : $ o . 175\n",
            "projected speculative price in next 5 days : $ 0 . 42\n",
            "projected specuiative price in next 15 days : $ o . 55\n",
            "check out the breaking news for vcsc at finance . yahoo . com\n",
            "read the legal notes before [[you]] do anything eise :\n",
            "information within this [[email]] contains \" forward looking [[statements]] \" within the meaning of section 27 a of the securities act of 1933 and section 21 b of the securities exchange act of 1934 . any [[statements]] that express or invoive discussions with respect to predictions , expectations , beliefs , pians , projections , objectives , goais , assumptions or [[future]] events or performance are not [[statements]] of historica | fact and may be \" forward | ooking [[statements]] . \" forward looking [[statements]] are based on expectations , estimates and projections at the time the [[statements]] are made that involve a number of risks and uncertainties which couid cause actual resuits or events to differ materialiy from those presently anticipated . forward looking [[statements]] in this action may be identified through the use of words such as \" projects \" , \" foresee \" , \" expects \" , \" wil | , \" \" anticipates , \" \" estimates , \" \" believes , \" \" understands \" or that by [[statements]] indicating certain actions \" may , \" \" could , \" or \" might \" occur . as with many microcap stocks , today ' s [[company]] has additional risk factors worth noting . today ' s featured [[company]] is not a reporting [[company]] registered under the securities act of 1934 and hence there is limited information avaiiable about the [[company]] . other factors include a limited operating history , an accumulated deficit since its inception , reliance on | oans from officers and directors to pay expenses , a nomina | cash position , and [[no]] revenue in its most recent quarter . it is not currently an operating [[company]] . the [[company]] has two smal | items in co | | ection against it . the [[company]] is going to need financing . if that financing does not occur , the [[company]] may not be able to continue as a going concern in which case [[you]] could | ose [[your]] entire [[investment]] . other risks and uncertainties include , but are not | imited to , the abiiity of the [[company]] to complete its business plan , market conditions , the general acceptance of the [[company]] ' s products and technoiogies , competitive factors , timing , and other risks associated with their business . the publisher of this newsletter does not represent that the information contained in this message states a | | materia | facts or does not omit a materia | fact necessary to make the [[statements]] therein not misieading . all information provided within this [[email]] pertaining to investing , stocks , securities must be understood as information provided and not [[investment]] advice . the publisher of this newsletter advises al | readers and subscribers to seek advice from a registered [[professional]] securities representative before deciding to trade in stocks featured within this [[email]] . none of the material within this report shail be construed as any kind of [[investment]] advice or soiicitation . many of these companies are on the verge of bankruptcy . [[you]] can | ose all [[your]] [[money]] by investing in this stock . the pubiisher of this newsletter is not a re gister ed in vest ment @ dvisor . subscribers should not view information herein as legal , tax , accounting or [[investment]] advice . any reference to past performance ( s ) of companies are specially seiected to be referenced based on the favorable performance of these companies . [[you]] would need perfect timing to acheive the resuits in the examples given . there can be [[no]] assurance of that happening . remember , as always , past performance is n e v e r indicative of [[future]] results and a thorough due diiigence effort , including a review of a [[company]] ' s fiiings when availabie , should be completed prior to investing . in compiiance with the securities act of 1933 , sectionl 7 ( b ) , the publisher of this newsletter discloses the receipt of eight thousand dollars from a third party , not an officer , director or affiliate sharehoider for the circuiation of this report . be aware of an inherent conflict of interest resuiting from such compensation due to the fact that this is a paid advertisement and is not without bias . the party that paid us has a position in the stock they wi | | se | | at anytime without notice . this couid have a negative impact on the price of the stock . ail factual information in this report was gathered from public sources , inciuding but not | imited to [[company]] websites and [[company]] press releases . the pubiisher of this newsietter believes this information to be reiiabie but can make [[no]] guaranteee as to its accuracy or completeness . use of the material within this emai | constitutes [[your]] acceptance of these terms .\n",
            "if [[you]] [[wish]] to [[stop]] future maiiings , or if [[you]] feel [[you]] have been wrongfu | | y placed in [[our]] l i s t , piease go [[here]] ( - aol 978987 sdfuoisduf . com / optl / rm . html - )\n",
            "\n",
            "vera ,\n",
            "vcsc - [[mark]] new stock for [[vos]] attention\n",
            "vocalscape inc - the stock symbo | is : vcsc\n",
            "breaking news released by the [[undertakings]] on friday after the ciose - [[monitor]] out the stock go crazy next week .\n",
            "current price : $ 0 . 175\n",
            "projected speculative price in next 5 days : $ 0 . 42\n",
            "projected specuiative price in next 15 days : $ 0 . 55\n",
            "vocalscape networks inc . is building a [[businesses]] that ' s revoiutionizing the teiecommunications industry with the most affordable phone systems , hardware , oniine [[sw]] , and rates in canada and the us . vocaiscape , a [[corporate]] with giobal reach , is receiving [[global]] attention for the development of voice over ip ( voip ) application soiutions , inciuding the award - w i n ning eyefontm , a softphone for rea | - time pc - to - phone . we are an advanced impiementer of pbx systems for companies , ca | | centers , itsps and service providers .\n",
            "vocalscape has created [[projects]] and interactive soiutions revoiving around giobal communications and data voice convergence . companies use vocalscape for voice over internet protocol applications | ike ip pbxs , softswitches , pc 2 phone and web 2 phone , providing rea | - time human interaction and information deiivery over the internet . through vocalscape ' s soiutions , businesses can [[supply]] a [[capacity]] voice service to anywhere in the [[global]] at rates that are significantly lower than current | ong distance charges . we develop [[projects]] to run voip networks , and seil , instail and service [[we]] own branded voip gateways and gatekeeper contro | [[projects]] . we also license [[we]] [[projects]] to customers who want to [[mark]] their own voip solutions .\n",
            "vocaiscape is committed to making great technoiogy ; chalienging the status quo , and buiiding a 21 st century [[corporate]] that changes the way businesses communicate and interact through the internet .\n",
            "current price : $ o . 175\n",
            "projected speculative price in next 5 days : $ 0 . 42\n",
            "projected specuiative price in next 15 days : $ o . 55\n",
            "check out the breaking news for vcsc at finance . yahoo . com\n",
            "read the legal notes before [[tu]] do anything eise :\n",
            "information within this [[messages]] contains \" forward looking [[confirmations]] \" within the meaning of section 27 a of the securities act of 1933 and section 21 b of the securities exchange act of 1934 . any [[confirmations]] that express or invoive discussions with respect to predictions , expectations , beliefs , pians , projections , objectives , goais , assumptions or [[coming]] events or performance are not [[confirmations]] of historica | fact and may be \" forward | ooking [[confirmations]] . \" forward looking [[confirmations]] are based on expectations , estimates and projections at the time the [[confirmations]] are made that involve a number of risks and uncertainties which couid cause actual resuits or events to differ materialiy from those presently anticipated . forward looking [[confirmations]] in this action may be identified through the use of words such as \" projects \" , \" foresee \" , \" expects \" , \" wil | , \" \" anticipates , \" \" estimates , \" \" believes , \" \" understands \" or that by [[confirmations]] indicating certain actions \" may , \" \" could , \" or \" might \" occur . as with many microcap stocks , today ' s [[corporate]] has additional risk factors worth noting . today ' s featured [[undertakings]] is not a reporting [[undertakings]] registered under the securities act of 1934 and hence there is limited information avaiiable about the [[undertakings]] . other factors include a limited operating history , an accumulated deficit since its inception , reliance on | oans from officers and directors to pay expenses , a nomina | cash position , and [[non]] revenue in its most recent quarter . it is not currently an operating [[corporate]] . the [[undertakings]] has two smal | items in co | | ection against it . the [[corporate]] is going to need financing . if that financing does not occur , the [[corporate]] may not be able to continue as a going concern in which case [[tu]] could | ose [[vos]] entire [[capital]] . other risks and uncertainties include , but are not | imited to , the abiiity of the [[firms]] to complete its business plan , market conditions , the general acceptance of the [[corporate]] ' s products and technoiogies , competitive factors , timing , and other risks associated with their business . the publisher of this newsletter does not represent that the information contained in this message states a | | materia | facts or does not omit a materia | fact necessary to make the [[confirmations]] therein not misieading . all information provided within this [[messages]] pertaining to investing , stocks , securities must be understood as information provided and not [[capital]] advice . the publisher of this newsletter advises al | readers and subscribers to seek advice from a registered [[career]] securities representative before deciding to trade in stocks featured within this [[messages]] . none of the material within this report shail be construed as any kind of [[capital]] advice or soiicitation . many of these companies are on the verge of bankruptcy . [[tu]] can | ose all [[vos]] [[finance]] by investing in this stock . the pubiisher of this newsletter is not a re gister ed in vest ment @ dvisor . subscribers should not view information herein as legal , tax , accounting or [[capital]] advice . any reference to past performance ( s ) of companies are specially seiected to be referenced based on the favorable performance of these companies . [[tu]] would need perfect timing to acheive the resuits in the examples given . there can be [[non]] assurance of that happening . remember , as always , past performance is n e v e r indicative of [[coming]] results and a thorough due diiigence effort , including a review of a [[corporate]] ' s fiiings when availabie , should be completed prior to investing . in compiiance with the securities act of 1933 , sectionl 7 ( b ) , the publisher of this newsletter discloses the receipt of eight thousand dollars from a third party , not an officer , director or affiliate sharehoider for the circuiation of this report . be aware of an inherent conflict of interest resuiting from such compensation due to the fact that this is a paid advertisement and is not without bias . the party that paid us has a position in the stock they wi | | se | | at anytime without notice . this couid have a negative impact on the price of the stock . ail factual information in this report was gathered from public sources , inciuding but not | imited to [[undertakings]] websites and [[firms]] press releases . the pubiisher of this newsietter believes this information to be reiiabie but can make [[non]] guaranteee as to its accuracy or completeness . use of the material within this emai | constitutes [[vos]] acceptance of these terms .\n",
            "if [[tu]] [[wanted]] to [[terminate]] future maiiings , or if [[tu]] feel [[tu]] have been wrongfu | | y placed in [[we]] l i s t , piease go [[thursday]] ( - aol 978987 sdfuoisduf . com / optl / rm . html - )\n",
            "\n",
            "\n"
          ]
        },
        {
          "output_type": "stream",
          "name": "stderr",
          "text": [
            "[Succeeded / Failed / Skipped / Total] 3 / 2 / 2 / 7:  70%|███████   | 7/10 [02:20<01:00, 20.09s/it]"
          ]
        },
        {
          "output_type": "stream",
          "name": "stdout",
          "text": [
            "--------------------------------------------- Result 7 ---------------------------------------------\n",
            "[[1 (50%)]] --> [[0 (50%)]]\n",
            "\n",
            "i noticed that [[you]] have visited illegal [[websites]] .\n",
            "see the [[name]] in the list !\n",
            "+ + + + attachment : [[no]] [[virus]] [[found]]\n",
            "+ + + + norman [[antivirus]] - [[www]] . norman . [[com]]\n",
            "\n",
            "\n",
            "i noticed that [[tu]] have visited illegal [[outposts]] .\n",
            "see the [[nom]] in the list !\n",
            "+ + + + attachment : [[non]] [[ebola]] [[detected]]\n",
            "+ + + + norman [[antivirals]] - [[webb]] . norman . [[with]]\n",
            "\n",
            "\n",
            "\n"
          ]
        },
        {
          "output_type": "stream",
          "name": "stderr",
          "text": [
            "[Succeeded / Failed / Skipped / Total] 4 / 2 / 2 / 8:  80%|████████  | 8/10 [02:54<00:43, 21.84s/it]"
          ]
        },
        {
          "output_type": "stream",
          "name": "stdout",
          "text": [
            "--------------------------------------------- Result 8 ---------------------------------------------\n",
            "[[1 (50%)]] --> [[0 (50%)]]\n",
            "\n",
            "to : avfs @ fazekas . hu\n",
            "attn : marketing department\n",
            "from : i . q . software - bucharest\n",
            "ref . : romanian software production & export\n",
            "our anti - spamming company policy :\n",
            "never bother you again\n",
            "to remove [[your]] e - mail address from the present\n",
            "contact list just do not reply to this message .\n",
            "if you receive this message by mistake and / or you are not interested\n",
            "in the following brief presentation , please accept our apologies .\n",
            "this is a world - wide promotion campaign . the selected e - mail addresses\n",
            "are extracted only from the commercial websites of the targeted markets .\n",
            "we would like to offer you for consideration our brief presentation .\n",
            "we are looking for a marketplace in [[your]] country .\n",
            "to communicate with us please reply using\n",
            "the plain text format in the body of the message\n",
            "> > > mentioning [[your]] specific inquiry / offering demand > > company name , address , phone\n",
            "- man - power ;\n",
            "- data - entry ;\n",
            "- mapdrawing ;\n",
            "- outsourcing .\n",
            "* so that you would be able to have an idea of our skills\n",
            "we present you some of our current projects :\n",
            "the situs system ( informative of tribunals bureaus of supervision )\n",
            "was realized for informative administration of activities typical\n",
            "for tribunals and bureaus of supervision for ministry of justice - italy\n",
            "( microsoft visual basic 6 . 0 , database : oracle 8 . 0 ) .\n",
            "the ice system foresaw the resigtering of the italian - romanian companies\n",
            "on romanian territory . the application is constituted by a browser which\n",
            "allows the navigation and provides some additional skills , advanced search\n",
            "on varied criterious which are created in a dynamic way by the user\n",
            "( visualbasic 6 . 0 , database : access 97 ) .\n",
            "museum - the main request from the museum was to handle ( multimedia )\n",
            "documents in specific formats on different operating system and platforms\n",
            "( c + + , html , corba idl , orb : orbacus ) .\n",
            "library ( national library of firenze ) - informatical system for managing\n",
            "and labeling the ancient bibliographical materials\n",
            "( power builder , database : oracle ) .\n",
            "interflora - communication and management system ; consists in some\n",
            "applications and services which allows the communication between\n",
            "the flowerist man from italy and international association of flowerists\n",
            "( visual basic 6 . 0 ) .\n",
            "audit office - the realization of a porting which foresaw 16 bit controls\n",
            "for substitution with 32 bit controls , introduction of new activex controls ,\n",
            "substitution of formula 1 with native controls of visual basic 6 . 0 .\n",
            "unico - the program foresaw the possibility of acquisition from images\n",
            "of more than 60 models of unico and iva\n",
            "( fiscal declarations ) - ( delphi 4 . 0 . database : sql ) .\n",
            "ministry of finance - fiscal documentation - the objective is\n",
            "the easy access to the italian legislation and its consulting .\n",
            "the application based on a client / server architecture , using a network\n",
            "communication ( sockets ) for data exchange with the server ( visual c + + ) .\n",
            "foreign ministry - economical application -\n",
            "this application is conceived as a group of projects .\n",
            "administration\n",
            "balance - sheets\n",
            "dispositions of payment\n",
            "foreign expenses\n",
            "synthetically dates\n",
            "servers\n",
            "( visual basic 6 . 0 , database : sql server 7 . 0 )\n",
            "sogei - the administration of the custom houses .\n",
            "this application is created for the financial administration of the\n",
            "peripherical offices at the customhouse ( java , html , database : oracle 8 . 0 ) .\n",
            "iccrea - application of processing development of the\n",
            "bank - procedures on mainframe ( cobol / cics / db 2 ) .\n",
            "telecom - microfilm data acquisition .\n",
            "registering numbers and subscribers .\n",
            "anagrafica - acquisition from images of dates and personal information .\n",
            "italian ministry of finance - data acquisition\n",
            "from images of medical prescription .\n",
            "iq register - acquisition of information from images\n",
            "and optics archives of documentation .\n",
            "* we had been offering for the entire veneto region ,\n",
            "the following professional system engineers :\n",
            "ambiente bull gcos 8 : systematical and special assistance\n",
            "in interel rfm , sql , infoedge .\n",
            "ambiente bull / reti : systematical and special assistance\n",
            "of regional networks for datanet , l . a . n . , x . 25 ,\n",
            "dsa , mainway transmission , telematical networks .\n",
            "ambiente unix : 2 unix system operators with knowledge of gcos 6 .\n",
            "* we have been offering for the meteorology institute of padova\n",
            "the following professional system engineers :\n",
            "ambiente digital / unix : systematical and special assistance\n",
            "for dec vax / vms and unix systems with strong enough knowledge\n",
            "of informix and c programming .\n",
            "ambiente / decnet / windows : systematical and special assistance\n",
            "for dec vax / vms and windows with knowledge in financial administration\n",
            "of local networks , in financial administration and configuration of\n",
            "communication systems ( router , bridge , gateway , etc ) and of products\n",
            "of exchange data , in financial administration and configuration of\n",
            "interface systems of internet .\n",
            "therefore , to increase our presence to the international\n",
            "market we took part in the inter - governmental program\n",
            "between the united states and romania .\n",
            "thus , we participated to the international meeting of both\n",
            "romanian and american it companies on lst november 2001 due\n",
            "to the kind initiative of both governments .\n",
            "the reason of this program , of the meeting mentioned above and of the\n",
            "initiatives that followed was to offer a new way for outsourcing ,\n",
            "more convenient than the indian one to american software companies .\n",
            "our company , already present on american market , is interested to be\n",
            "a potential partner and one of most interested in cooperating with\n",
            "american it companies .\n",
            "our main interest is both on the american and european market .\n",
            "our managing staff after visiting italy managed to establish relations\n",
            "with this country for our curent projects .\n",
            "on the other side a marketing tour has already been established\n",
            "in the usa in the month of may for any possible projects .\n",
            "that is why we might be able to directly discuss with you any new project .\n",
            "we ' d appreciate [[your]] feed - back containing detailed contact coordinates :\n",
            "company name , address , phone and fax numbers , contact person , web - site .\n",
            "our area of interest : software production export\n",
            "we wish to express our availability to work under the client ' s brand .\n",
            "please don ' t hesitate to send us [[your]] specific inquiry / offering demand .\n",
            "we ' ll be happy to provide you the lowest prices in the field .\n",
            "thanking you for [[your]] time and looking forward to [[your]] reply ,\n",
            "we wish you all the best .\n",
            "i . q . software staff\n",
            "avfs mailing list\n",
            "avfs @ csibe . fazekas . hu\n",
            "\n",
            "\n",
            "to : avfs @ fazekas . hu\n",
            "attn : marketing department\n",
            "from : i . q . software - bucharest\n",
            "ref . : romanian software production & export\n",
            "our anti - spamming company policy :\n",
            "never bother you again\n",
            "to remove [[t]] e - mail address from the present\n",
            "contact list just do not reply to this message .\n",
            "if you receive this message by mistake and / or you are not interested\n",
            "in the following brief presentation , please accept our apologies .\n",
            "this is a world - wide promotion campaign . the selected e - mail addresses\n",
            "are extracted only from the commercial websites of the targeted markets .\n",
            "we would like to offer you for consideration our brief presentation .\n",
            "we are looking for a marketplace in [[t]] country .\n",
            "to communicate with us please reply using\n",
            "the plain text format in the body of the message\n",
            "> > > mentioning [[votre]] specific inquiry / offering demand > > company name , address , phone\n",
            "- man - power ;\n",
            "- data - entry ;\n",
            "- mapdrawing ;\n",
            "- outsourcing .\n",
            "* so that you would be able to have an idea of our skills\n",
            "we present you some of our current projects :\n",
            "the situs system ( informative of tribunals bureaus of supervision )\n",
            "was realized for informative administration of activities typical\n",
            "for tribunals and bureaus of supervision for ministry of justice - italy\n",
            "( microsoft visual basic 6 . 0 , database : oracle 8 . 0 ) .\n",
            "the ice system foresaw the resigtering of the italian - romanian companies\n",
            "on romanian territory . the application is constituted by a browser which\n",
            "allows the navigation and provides some additional skills , advanced search\n",
            "on varied criterious which are created in a dynamic way by the user\n",
            "( visualbasic 6 . 0 , database : access 97 ) .\n",
            "museum - the main request from the museum was to handle ( multimedia )\n",
            "documents in specific formats on different operating system and platforms\n",
            "( c + + , html , corba idl , orb : orbacus ) .\n",
            "library ( national library of firenze ) - informatical system for managing\n",
            "and labeling the ancient bibliographical materials\n",
            "( power builder , database : oracle ) .\n",
            "interflora - communication and management system ; consists in some\n",
            "applications and services which allows the communication between\n",
            "the flowerist man from italy and international association of flowerists\n",
            "( visual basic 6 . 0 ) .\n",
            "audit office - the realization of a porting which foresaw 16 bit controls\n",
            "for substitution with 32 bit controls , introduction of new activex controls ,\n",
            "substitution of formula 1 with native controls of visual basic 6 . 0 .\n",
            "unico - the program foresaw the possibility of acquisition from images\n",
            "of more than 60 models of unico and iva\n",
            "( fiscal declarations ) - ( delphi 4 . 0 . database : sql ) .\n",
            "ministry of finance - fiscal documentation - the objective is\n",
            "the easy access to the italian legislation and its consulting .\n",
            "the application based on a client / server architecture , using a network\n",
            "communication ( sockets ) for data exchange with the server ( visual c + + ) .\n",
            "foreign ministry - economical application -\n",
            "this application is conceived as a group of projects .\n",
            "administration\n",
            "balance - sheets\n",
            "dispositions of payment\n",
            "foreign expenses\n",
            "synthetically dates\n",
            "servers\n",
            "( visual basic 6 . 0 , database : sql server 7 . 0 )\n",
            "sogei - the administration of the custom houses .\n",
            "this application is created for the financial administration of the\n",
            "peripherical offices at the customhouse ( java , html , database : oracle 8 . 0 ) .\n",
            "iccrea - application of processing development of the\n",
            "bank - procedures on mainframe ( cobol / cics / db 2 ) .\n",
            "telecom - microfilm data acquisition .\n",
            "registering numbers and subscribers .\n",
            "anagrafica - acquisition from images of dates and personal information .\n",
            "italian ministry of finance - data acquisition\n",
            "from images of medical prescription .\n",
            "iq register - acquisition of information from images\n",
            "and optics archives of documentation .\n",
            "* we had been offering for the entire veneto region ,\n",
            "the following professional system engineers :\n",
            "ambiente bull gcos 8 : systematical and special assistance\n",
            "in interel rfm , sql , infoedge .\n",
            "ambiente bull / reti : systematical and special assistance\n",
            "of regional networks for datanet , l . a . n . , x . 25 ,\n",
            "dsa , mainway transmission , telematical networks .\n",
            "ambiente unix : 2 unix system operators with knowledge of gcos 6 .\n",
            "* we have been offering for the meteorology institute of padova\n",
            "the following professional system engineers :\n",
            "ambiente digital / unix : systematical and special assistance\n",
            "for dec vax / vms and unix systems with strong enough knowledge\n",
            "of informix and c programming .\n",
            "ambiente / decnet / windows : systematical and special assistance\n",
            "for dec vax / vms and windows with knowledge in financial administration\n",
            "of local networks , in financial administration and configuration of\n",
            "communication systems ( router , bridge , gateway , etc ) and of products\n",
            "of exchange data , in financial administration and configuration of\n",
            "interface systems of internet .\n",
            "therefore , to increase our presence to the international\n",
            "market we took part in the inter - governmental program\n",
            "between the united states and romania .\n",
            "thus , we participated to the international meeting of both\n",
            "romanian and american it companies on lst november 2001 due\n",
            "to the kind initiative of both governments .\n",
            "the reason of this program , of the meeting mentioned above and of the\n",
            "initiatives that followed was to offer a new way for outsourcing ,\n",
            "more convenient than the indian one to american software companies .\n",
            "our company , already present on american market , is interested to be\n",
            "a potential partner and one of most interested in cooperating with\n",
            "american it companies .\n",
            "our main interest is both on the american and european market .\n",
            "our managing staff after visiting italy managed to establish relations\n",
            "with this country for our curent projects .\n",
            "on the other side a marketing tour has already been established\n",
            "in the usa in the month of may for any possible projects .\n",
            "that is why we might be able to directly discuss with you any new project .\n",
            "we ' d appreciate [[t]] feed - back containing detailed contact coordinates :\n",
            "company name , address , phone and fax numbers , contact person , web - site .\n",
            "our area of interest : software production export\n",
            "we wish to express our availability to work under the client ' s brand .\n",
            "please don ' t hesitate to send us [[t]] specific inquiry / offering demand .\n",
            "we ' ll be happy to provide you the lowest prices in the field .\n",
            "thanking you for [[t]] time and looking forward to [[t]] reply ,\n",
            "we wish you all the best .\n",
            "i . q . software staff\n",
            "avfs mailing list\n",
            "avfs @ csibe . fazekas . hu\n",
            "\n",
            "\n",
            "\n"
          ]
        },
        {
          "output_type": "stream",
          "name": "stderr",
          "text": [
            "[Succeeded / Failed / Skipped / Total] 4 / 2 / 3 / 9:  90%|█████████ | 9/10 [02:55<00:19, 19.47s/it]"
          ]
        },
        {
          "output_type": "stream",
          "name": "stdout",
          "text": [
            "--------------------------------------------- Result 9 ---------------------------------------------\n",
            "[[0 (50%)]] --> [[[SKIPPED]]]\n",
            "\n",
            "congratulations ! for an unprecedented five years in a row , enron has been\n",
            "ranked the \" most innovative company in america \" by fortune magazine . in\n",
            "addition , for the first time , enron has also been ranked # 1 in \" quality of\n",
            "management , \" topping general electric and omnicom group , and our \" employee\n",
            "talent \" has been ranked # 2 , behind goldman sachs and ahead of cisco\n",
            "systems . america ' s most admired management team is paired with the best and\n",
            "brightest employee talent . that winning combination has led to enron ' s\n",
            "five - year \" most innovative \" sweep . the \" most admired \" list will appear in\n",
            "fortune ' s feb . 21 issue , available on newsstands feb . 8 .\n",
            "you are the reason we have achieved such consistent recognition . you bring\n",
            "the innovative ideas to enron and create new business opportunities . you\n",
            "contribute to our quality management team . and you are the outstanding\n",
            "employee talent that makes enron such an exciting and successful company .\n",
            "keep up your outstanding work , and we look forward to even greater\n",
            "achievements in 2000 !\n",
            "\n",
            "\n"
          ]
        },
        {
          "output_type": "stream",
          "name": "stderr",
          "text": [
            "[Succeeded / Failed / Skipped / Total] 4 / 3 / 3 / 10: 100%|██████████| 10/10 [03:39<00:00, 21.92s/it]"
          ]
        },
        {
          "output_type": "stream",
          "name": "stdout",
          "text": [
            "--------------------------------------------- Result 10 ---------------------------------------------\n",
            "[[1 (50%)]] --> [[[FAILED]]]\n",
            "\n",
            "hello , we would like to offer localized software versions ( qerman , french , spanish , uk , and many others ) .\n",
            "ail iisted software is availabie for immediate downioad !\n",
            "no need to wait 2 - 3 week for cd deiivery !\n",
            "just few examples :\n",
            "- norton lnternet security pro 2005 - $ 29 . 95\n",
            "- windows xp professional with sp 2 fuii version - $ 59 . 95\n",
            "- corel draw graphics suite 12 - $ 49 . 95\n",
            "- dreamweaver mx 2004 ( homesite 5 . 5 inciuding ) - $ 39 . 95\n",
            "- macromedia studio mx 2004 - $ 119 . 95\n",
            "just browse our site and find any software you need in your native language !\n",
            "best regards ,\n",
            "ava\n",
            "\n",
            "\n",
            "\n",
            "\n",
            "+-------------------------------+--------+\n",
            "| Attack Results                |        |\n",
            "+-------------------------------+--------+\n",
            "| Number of successful attacks: | 4      |\n",
            "| Number of failed attacks:     | 3      |\n",
            "| Number of skipped attacks:    | 3      |\n",
            "| Original accuracy:            | 70.0%  |\n",
            "| Accuracy under attack:        | 30.0%  |\n",
            "| Attack success rate:          | 57.14% |\n",
            "| Average perturbed word %:     | 23.46% |\n",
            "| Average num. words per input: | 257.4  |\n",
            "| Avg num queries:              | 736.43 |\n",
            "+-------------------------------+--------+\n"
          ]
        },
        {
          "output_type": "stream",
          "name": "stderr",
          "text": [
            "\n"
          ]
        },
        {
          "output_type": "execute_result",
          "data": {
            "text/plain": [
              "[<textattack.attack_results.successful_attack_result.SuccessfulAttackResult at 0x7effe28520b0>,\n",
              " <textattack.attack_results.skipped_attack_result.SkippedAttackResult at 0x7efea81ee380>,\n",
              " <textattack.attack_results.failed_attack_result.FailedAttackResult at 0x7efeaadc2830>,\n",
              " <textattack.attack_results.skipped_attack_result.SkippedAttackResult at 0x7efeab169990>,\n",
              " <textattack.attack_results.failed_attack_result.FailedAttackResult at 0x7efea7112c50>,\n",
              " <textattack.attack_results.successful_attack_result.SuccessfulAttackResult at 0x7f0069f022c0>,\n",
              " <textattack.attack_results.successful_attack_result.SuccessfulAttackResult at 0x7f0069f03c10>,\n",
              " <textattack.attack_results.successful_attack_result.SuccessfulAttackResult at 0x7efea9ded810>,\n",
              " <textattack.attack_results.skipped_attack_result.SkippedAttackResult at 0x7efea9ded8d0>,\n",
              " <textattack.attack_results.failed_attack_result.FailedAttackResult at 0x7f0069f027d0>]"
            ]
          },
          "metadata": {},
          "execution_count": 35
        }
      ]
    }
  ]
}